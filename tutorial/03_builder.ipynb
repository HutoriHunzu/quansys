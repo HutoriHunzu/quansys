{
 "cells": [
  {
   "cell_type": "markdown",
   "id": "1842e705",
   "metadata": {},
   "source": [
    "## 03_builder.ipynb\n",
    "\n",
    "This notebook demonstrates how to use the **Builder** module in the `pysubmit` package.\n",
    "\n",
    "The builder pattern provides a clean, modular way to inject logic into the simulation setup process.  \n",
    "It gives users \"hooks\" to modify or interact with the AEDT design in a structured and reusable way.\n",
    "\n",
    "In this tutorial, we cover three different builder classes:\n",
    "\n",
    "1. `DesignVariableBuilder`: Modify design parameters\n",
    "2. `FunctionBuilder`: Run custom Python functions on the design\n",
    "3. `ScriptBuilder`: Load and run user-defined Python functions stored in external `.py` files\n",
    "\n",
    "> **Note:**  \n",
    "> These builders are especially useful when writing parameter sweeps or automating simulation workflows — topics we'll explore in later tutorials.\n"
   ]
  },
  {
   "cell_type": "code",
   "execution_count": 1,
   "id": "e7c56991",
   "metadata": {},
   "outputs": [],
   "source": [
    "from ansys.aedt.core.hfss import Hfss\n",
    "\n",
    "hfss_file_path = 'sime_design_readout_for_builder.aedt'"
   ]
  },
  {
   "cell_type": "markdown",
   "id": "47c74326",
   "metadata": {},
   "source": [
    "### 1. Design Variable Builder\n",
    "\n",
    "This builder is used to define and apply design variables in your AEDT simulation.\n",
    "\n",
    "You can specify parameters as a dictionary, and the builder will apply them to the design automatically.\n"
   ]
  },
  {
   "cell_type": "code",
   "execution_count": 2,
   "id": "9de15ba7",
   "metadata": {},
   "outputs": [],
   "source": [
    "from ansys.aedt.core.hfss import Hfss\n",
    "from pysubmit.workflow.builder import DesignVariableBuilder\n",
    "\n",
    "\n",
    "builder = DesignVariableBuilder(\n",
    "    setup_name='Setup1',\n",
    "    design_name='my_design'\n",
    ")\n"
   ]
  },
  {
   "cell_type": "markdown",
   "id": "eb2ee1b1",
   "metadata": {},
   "source": [
    "We define a dictionary of parameters to apply to the design.\n"
   ]
  },
  {
   "cell_type": "code",
   "execution_count": 3,
   "id": "dce8cd46",
   "metadata": {},
   "outputs": [
    {
     "name": "stdout",
     "output_type": "stream",
     "text": [
      "PyAEDT INFO: Parsing sime_design_readout_for_builder.aedt.\n",
      "PyAEDT INFO: Python version 3.11.3 (tags/v3.11.3:f3909b8, Apr  4 2023, 23:49:59) [MSC v.1934 64 bit (AMD64)].\n",
      "PyAEDT INFO: PyAEDT version 0.15.1.\n",
      "PyAEDT INFO: File sime_design_readout_for_builder.aedt correctly loaded. Elapsed time: 0m 0sec\n",
      "PyAEDT INFO: Initializing new Desktop session.\n",
      "PyAEDT INFO: Log on console is enabled.\n",
      "PyAEDT INFO: Log on file C:\\Users\\rosengrp\\AppData\\Local\\Temp\\pyaedt_rosengrp_3530d2b5-8155-48df-93a8-b7be7bfdb879.log is enabled.\n",
      "PyAEDT INFO: Log on AEDT is enabled.\n",
      "PyAEDT INFO: Debug logger is disabled. PyAEDT methods will not be logged.\n",
      "PyAEDT INFO: Launching PyAEDT with gRPC plugin.\n",
      "PyAEDT INFO: New AEDT session is starting on gRPC port 61840.\n",
      "PyAEDT INFO: Electronics Desktop started on gRPC port: 61840 after 10.015042781829834 seconds.\n",
      "PyAEDT INFO: AEDT installation Path C:\\Program Files\\AnsysEM\\v242\\Win64\n",
      "PyAEDT INFO: Ansoft.ElectronicsDesktop.2024.2 version started with process ID 25608.\n",
      "PyAEDT INFO: Project sime_design_readout_for_builder has been opened.\n",
      "PyAEDT INFO: Active Design set to my_design\n",
      "PyAEDT INFO: Aedt Objects correctly read\n",
      "\n",
      "\n",
      "##############################\n",
      "CHIP BASE VALUE BEFORE: 12mm\n",
      "##############################\n",
      "\n",
      "\n",
      "PyAEDT INFO: Python version 3.11.3 (tags/v3.11.3:f3909b8, Apr  4 2023, 23:49:59) [MSC v.1934 64 bit (AMD64)].\n",
      "PyAEDT INFO: PyAEDT version 0.15.1.\n",
      "PyAEDT INFO: Returning found Desktop session with PID 25608!\n",
      "PyAEDT INFO: Project sime_design_readout_for_builder set to active.\n",
      "PyAEDT INFO: Active Design set to my_design\n",
      "PyAEDT INFO: Aedt Objects correctly read\n",
      "\n",
      "\n",
      "##############################\n",
      "CHIP BASE VALUE AFTER: 20mm\n",
      "##############################\n",
      "\n",
      "\n",
      "PyAEDT INFO: Desktop has been released and closed.\n"
     ]
    }
   ],
   "source": [
    "parameters = {'chip_base_length': '20mm'}\n",
    "\n",
    "with Hfss(\n",
    "    project=hfss_file_path,\n",
    "    design='my_design',\n",
    "    remove_lock=True,\n",
    "    close_on_exit=True\n",
    ") as hfss:\n",
    "    \n",
    "    # viewing the before value\n",
    "    print(f'\\n\\n{\"#\" * 30}')\n",
    "    print(f'CHIP BASE VALUE BEFORE: {hfss[\"chip_base_length\"]}')\n",
    "    print(f'{\"#\" * 30}\\n\\n')\n",
    "\n",
    "    builded_parameters = builder.build(hfss, parameters=parameters)\n",
    "\n",
    "    # viewing the after value\n",
    "    print(f'\\n\\n{\"#\" * 30}')\n",
    "    print(f'CHIP BASE VALUE AFTER: {hfss[\"chip_base_length\"]}')\n",
    "    print(f'{\"#\" * 30}\\n\\n')"
   ]
  },
  {
   "cell_type": "markdown",
   "id": "dde665cf",
   "metadata": {},
   "source": [
    "### 2. Function Builder\n",
    "\n",
    "The `FunctionBuilder` lets you define a custom function that receives the design object  \n",
    "and performs arbitrary actions on it — ideal for scripting your own automation logic.\n"
   ]
  },
  {
   "cell_type": "code",
   "execution_count": 4,
   "id": "3b27e6e7",
   "metadata": {},
   "outputs": [],
   "source": [
    "from pysubmit.workflow.builder import FunctionBuilder\n",
    "\n",
    "def my_custom_function(hfss, value):\n",
    "    hfss['chip_base_length'] = value\n",
    "    return {'chip_base_length': value}\n",
    "\n",
    "\n",
    "\n",
    "function_builder = FunctionBuilder(\n",
    "    function=my_custom_function\n",
    ")"
   ]
  },
  {
   "cell_type": "markdown",
   "id": "78a5c5d2",
   "metadata": {},
   "source": [
    "We now use the function builder to execute the custom function within the HFSS design context.\n"
   ]
  },
  {
   "cell_type": "code",
   "execution_count": 5,
   "id": "024d15e5",
   "metadata": {},
   "outputs": [
    {
     "name": "stdout",
     "output_type": "stream",
     "text": [
      "PyAEDT INFO: Parsing sime_design_readout_for_builder.aedt.\n",
      "PyAEDT INFO: Python version 3.11.3 (tags/v3.11.3:f3909b8, Apr  4 2023, 23:49:59) [MSC v.1934 64 bit (AMD64)].\n",
      "PyAEDT INFO: PyAEDT version 0.15.1.\n",
      "PyAEDT INFO: File sime_design_readout_for_builder.aedt correctly loaded. Elapsed time: 0m 0sec\n",
      "PyAEDT INFO: Initializing new Desktop session.\n",
      "PyAEDT INFO: Log on console is enabled.\n",
      "PyAEDT INFO: Log on file C:\\Users\\rosengrp\\AppData\\Local\\Temp\\pyaedt_rosengrp_3530d2b5-8155-48df-93a8-b7be7bfdb879.log is enabled.\n",
      "PyAEDT INFO: Log on AEDT is enabled.\n",
      "PyAEDT INFO: Debug logger is disabled. PyAEDT methods will not be logged.\n",
      "PyAEDT INFO: Launching PyAEDT with gRPC plugin.\n",
      "PyAEDT INFO: New AEDT session is starting on gRPC port 61907.\n",
      "PyAEDT INFO: Electronics Desktop started on gRPC port: 61907 after 9.632612705230713 seconds.\n",
      "PyAEDT INFO: AEDT installation Path C:\\Program Files\\AnsysEM\\v242\\Win64\n",
      "PyAEDT INFO: Ansoft.ElectronicsDesktop.2024.2 version started with process ID 7100.\n",
      "PyAEDT INFO: Project sime_design_readout_for_builder has been opened.\n",
      "PyAEDT INFO: Active Design set to my_design\n",
      "PyAEDT INFO: Aedt Objects correctly read\n",
      "\n",
      "\n",
      "##############################\n",
      "CHIP BASE VALUE BEFORE: 12mm\n",
      "##############################\n",
      "\n",
      "\n",
      "\n",
      "\n",
      "##############################\n",
      "CHIP BASE VALUE AFTER: 20mm\n",
      "##############################\n",
      "\n",
      "\n",
      "PyAEDT INFO: Desktop has been released and closed.\n"
     ]
    }
   ],
   "source": [
    "with Hfss(\n",
    "    project=hfss_file_path,\n",
    "    design='my_design',\n",
    "    remove_lock=True,\n",
    "    close_on_exit=True\n",
    ") as hfss:\n",
    "    \n",
    "    # viewing the before value\n",
    "    print(f'\\n\\n{\"#\" * 30}')\n",
    "    print(f'CHIP BASE VALUE BEFORE: {hfss[\"chip_base_length\"]}')\n",
    "    print(f'{\"#\" * 30}\\n\\n')\n",
    "\n",
    "    builded_parameters = function_builder.build(hfss, parameters={'value': '20mm'})\n",
    "\n",
    "    # viewing the after value\n",
    "    print(f'\\n\\n{\"#\" * 30}')\n",
    "    print(f'CHIP BASE VALUE AFTER: {hfss[\"chip_base_length\"]}')\n",
    "    print(f'{\"#\" * 30}\\n\\n')\n"
   ]
  },
  {
   "cell_type": "markdown",
   "id": "7d5150ae",
   "metadata": {},
   "source": [
    "### 3. Script Builder\n",
    "\n",
    "The `ScriptBuilder` is used when your simulation logic is stored in a separate Python file.\n",
    "\n",
    "Instead of importing your function manually into the notebook, you can simply provide the file path.  \n",
    "`ScriptBuilder` will import and execute the function from that file in the context of the current HFSS design.\n",
    "\n",
    "This is particularly helpful for modular projects where simulation setup logic is kept in external scripts.\n"
   ]
  },
  {
   "cell_type": "code",
   "execution_count": 6,
   "id": "83f5a298",
   "metadata": {},
   "outputs": [
    {
     "name": "stdout",
     "output_type": "stream",
     "text": [
      "PyAEDT INFO: Parsing sime_design_readout_for_builder.aedt.\n",
      "PyAEDT INFO: Python version 3.11.3 (tags/v3.11.3:f3909b8, Apr  4 2023, 23:49:59) [MSC v.1934 64 bit (AMD64)].\n",
      "PyAEDT INFO: PyAEDT version 0.15.1.\n",
      "PyAEDT INFO: File sime_design_readout_for_builder.aedt correctly loaded. Elapsed time: 0m 0sec\n",
      "PyAEDT INFO: Initializing new Desktop session.\n",
      "PyAEDT INFO: Log on console is enabled.\n",
      "PyAEDT INFO: Log on file C:\\Users\\rosengrp\\AppData\\Local\\Temp\\pyaedt_rosengrp_3530d2b5-8155-48df-93a8-b7be7bfdb879.log is enabled.\n",
      "PyAEDT INFO: Log on AEDT is enabled.\n",
      "PyAEDT INFO: Debug logger is disabled. PyAEDT methods will not be logged.\n",
      "PyAEDT INFO: Launching PyAEDT with gRPC plugin.\n",
      "PyAEDT INFO: New AEDT session is starting on gRPC port 61969.\n",
      "PyAEDT INFO: Electronics Desktop started on gRPC port: 61969 after 9.710781335830688 seconds.\n",
      "PyAEDT INFO: AEDT installation Path C:\\Program Files\\AnsysEM\\v242\\Win64\n",
      "PyAEDT INFO: Ansoft.ElectronicsDesktop.2024.2 version started with process ID 636.\n",
      "PyAEDT INFO: Project sime_design_readout_for_builder has been opened.\n",
      "PyAEDT INFO: Active Design set to my_design\n",
      "PyAEDT INFO: Aedt Objects correctly read\n",
      "\n",
      "\n",
      "##############################\n",
      "CHIP BASE VALUE BEFORE: 12mm\n",
      "##############################\n",
      "\n",
      "\n",
      "\n",
      "\n",
      "##############################\n",
      "CHIP BASE VALUE AFTER: 20mm\n",
      "##############################\n",
      "\n",
      "\n",
      "PyAEDT INFO: Desktop has been released and closed.\n"
     ]
    }
   ],
   "source": [
    "from pysubmit.workflow.builder.script_builder import ScriptBuilder\n",
    "\n",
    "\n",
    "script_builder = ScriptBuilder(\n",
    "    path='script_builder_function.py'\n",
    ")\n",
    "\n",
    "\n",
    "with Hfss(\n",
    "    project=hfss_file_path,\n",
    "    design='my_design',\n",
    "    remove_lock=True,\n",
    "    close_on_exit=True\n",
    ") as hfss:\n",
    "    \n",
    "    # viewing the before value\n",
    "    print(f'\\n\\n{\"#\" * 30}')\n",
    "    print(f'CHIP BASE VALUE BEFORE: {hfss[\"chip_base_length\"]}')\n",
    "    print(f'{\"#\" * 30}\\n\\n')\n",
    "\n",
    "    builded_parameters = script_builder.build(hfss, parameters={'value': '20mm'})\n",
    "\n",
    "    # viewing the after value\n",
    "    print(f'\\n\\n{\"#\" * 30}')\n",
    "    print(f'CHIP BASE VALUE AFTER: {hfss[\"chip_base_length\"]}')\n",
    "    print(f'{\"#\" * 30}\\n\\n')"
   ]
  }
 ],
 "metadata": {
  "kernelspec": {
   "display_name": ".venv",
   "language": "python",
   "name": "python3"
  },
  "language_info": {
   "codemirror_mode": {
    "name": "ipython",
    "version": 3
   },
   "file_extension": ".py",
   "mimetype": "text/x-python",
   "name": "python",
   "nbconvert_exporter": "python",
   "pygments_lexer": "ipython3",
   "version": "3.11.3"
  }
 },
 "nbformat": 4,
 "nbformat_minor": 5
}
