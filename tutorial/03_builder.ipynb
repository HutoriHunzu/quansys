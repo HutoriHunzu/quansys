{
 "cells": [
  {
   "cell_type": "markdown",
   "metadata": {},
   "source": [
    "# 03_builder\n",
    "\n",
    "This notebook demonstrates how to use the **Builder** module in the `pysubmit` package.\n",
    "\n",
    "The builder pattern provides a clean, modular way to inject logic into the simulation setup process.\n",
    "It gives users hooks to modify or interact with the AEDT design in a structured and reusable way.\n",
    "\n",
    "In this tutorial, we cover three different builder classes:\n",
    "1. `DesignVariableBuilder`: Modify design parameters\n",
    "2. `FunctionBuilder`: Run custom Python functions on the design\n",
    "3. `ScriptBuilder`: Load and run user-defined Python functions stored in external `.py` files\n",
    "\n",
    "### How Builders Fit into Larger Workflows\n",
    "- **DesignVariableBuilder**, **FunctionBuilder**, and **ScriptBuilder** help you parameterize and automate repeated tasks (e.g. setting design variables, running custom logic, or loading external scripts).\n",
    "- In a broader workflow, these builders can be combined with **Sweepers** (to vary parameters) and **Simulation** classes (to run HFSS analyses).\n",
    "- This modular approach simplifies complex simulation pipelines.\n",
    "\n",
    "> **Note:**\n",
    "> These builders are especially useful when writing parameter sweeps or automating simulation workflows — topics also explored in other tutorials.\n"
   ]
  },
  {
   "cell_type": "code",
   "execution_count": 22,
   "id": "433ebdce",
   "metadata": {},
   "outputs": [
    {
     "name": "stdout",
     "output_type": "stream",
     "text": [
      "PyAEDT INFO: Parsing ./designs/simple_design.aedt.\n",
      "PyAEDT INFO: Python version 3.11.3 (tags/v3.11.3:f3909b8, Apr  4 2023, 23:49:59) [MSC v.1934 64 bit (AMD64)]\n",
      "PyAEDT INFO: PyAEDT version 0.13.0.\n",
      "PyAEDT INFO: Initializing new Desktop session.\n",
      "PyAEDT INFO: File ./designs/simple_design.aedt correctly loaded. Elapsed time: 0m 0sec\n",
      "PyAEDT INFO: Log on console is enabled.\n",
      "PyAEDT INFO: Log on file C:\\Users\\rosengrp\\AppData\\Local\\Temp\\pyaedt_rosengrp_3c49ff27-023f-4441-ae6b-082fb4adb9e1.log is enabled.\n",
      "PyAEDT INFO: Log on AEDT is enabled.\n",
      "PyAEDT INFO: Debug logger is disabled. PyAEDT methods will not be logged.\n",
      "PyAEDT INFO: Launching PyAEDT with gRPC plugin.\n",
      "PyAEDT INFO: New AEDT session is starting on gRPC port 62005\n",
      "PyAEDT INFO: AEDT installation Path C:\\Program Files\\AnsysEM\\v242\\Win64\n",
      "PyAEDT INFO: Ansoft.ElectronicsDesktop.2024.2 version started with process ID 18000.\n",
      "PyAEDT INFO: Project simple_design has been opened.\n",
      "PyAEDT INFO: Aedt Objects correctly read\n"
     ]
    }
   ],
   "source": [
    "# opening the HFSS for demostration\n",
    "from ansys.aedt.core.hfss import Hfss\n",
    "hfss_file_path = './designs/simple_design.aedt'\n",
    "\n",
    "hfss = Hfss(\n",
    "    project=hfss_file_path,\n",
    "    design='my_design',\n",
    "    remove_lock=True,\n",
    "    close_on_exit=True\n",
    ")"
   ]
  },
  {
   "cell_type": "markdown",
   "metadata": {},
   "source": [
    "## 1. Design Variable Builder\n",
    "\n",
    "This builder is used to define and apply design variables in your AEDT simulation.\n",
    "You can specify parameters as a dictionary, and the builder will apply them to the design automatically."
   ]
  },
  {
   "cell_type": "code",
   "execution_count": 23,
   "metadata": {},
   "outputs": [],
   "source": [
    "from pysubmit.workflow.builder import DesignVariableBuilder\n",
    "\n",
    "# Create a builder\n",
    "builder = DesignVariableBuilder(\n",
    "    setup_name='Setup1',\n",
    "    design_name='my_design'\n",
    ")"
   ]
  },
  {
   "cell_type": "markdown",
   "metadata": {},
   "source": [
    "We define a dictionary of parameters to apply to the design."
   ]
  },
  {
   "cell_type": "code",
   "execution_count": 24,
   "metadata": {},
   "outputs": [
    {
     "name": "stdout",
     "output_type": "stream",
     "text": [
      "CHIP BASE VALUE BEFORE: 16mm\n",
      "PyAEDT INFO: Python version 3.11.3 (tags/v3.11.3:f3909b8, Apr  4 2023, 23:49:59) [MSC v.1934 64 bit (AMD64)]\n",
      "PyAEDT INFO: PyAEDT version 0.13.0.\n",
      "PyAEDT INFO: Returning found Desktop session with PID 18000!\n",
      "PyAEDT INFO: Project simple_design set to active.\n",
      "PyAEDT INFO: Aedt Objects correctly read\n",
      "CHIP BASE VALUE AFTER: 20mm\n"
     ]
    }
   ],
   "source": [
    "parameters = {'chip_base_length': '20mm'}\n",
    "\n",
    "# Before and after comparison\n",
    "print(\"CHIP BASE VALUE BEFORE:\", hfss[\"chip_base_length\"])\n",
    "\n",
    "builded_parameters = builder.build(hfss, parameters=parameters)\n",
    "\n",
    "print(\"CHIP BASE VALUE AFTER:\", hfss[\"chip_base_length\"])\n",
    "# The PyAEDT logs may appear here; they can be ignored unless debugging.\n"
   ]
  },
  {
   "cell_type": "markdown",
   "metadata": {},
   "source": [
    "## 2. Function Builder\n",
    "\n",
    "The `FunctionBuilder` lets you define a custom function that receives the design object  \n",
    "and performs arbitrary actions on it—ideal for scripting your own automation logic."
   ]
  },
  {
   "cell_type": "code",
   "execution_count": 25,
   "metadata": {},
   "outputs": [],
   "source": [
    "from pysubmit.workflow.builder import FunctionBuilder\n",
    "\n",
    "def my_custom_function(hfss, value):\n",
    "    hfss['chip_base_length'] = value\n",
    "    return {'chip_base_length': value}\n",
    "\n",
    "function_builder = FunctionBuilder(\n",
    "    function=my_custom_function\n",
    ")"
   ]
  },
  {
   "cell_type": "markdown",
   "metadata": {},
   "source": [
    "We now use the function builder to execute the custom function within the HFSS design context."
   ]
  },
  {
   "cell_type": "code",
   "execution_count": 26,
   "metadata": {},
   "outputs": [
    {
     "name": "stdout",
     "output_type": "stream",
     "text": [
      "CHIP BASE VALUE BEFORE: 20mm\n",
      "CHIP BASE VALUE AFTER: 30mm\n"
     ]
    }
   ],
   "source": [
    "print(\"CHIP BASE VALUE BEFORE:\", hfss[\"chip_base_length\"])\n",
    "\n",
    "builded_parameters = function_builder.build(hfss, parameters={'value': '30mm'})\n",
    "\n",
    "print(\"CHIP BASE VALUE AFTER:\", hfss[\"chip_base_length\"])"
   ]
  },
  {
   "cell_type": "markdown",
   "metadata": {},
   "source": [
    "## 3. Script Builder\n",
    "\n",
    "The `ScriptBuilder` is used when your simulation logic is stored in a separate Python file.\n",
    "\n",
    "Instead of importing your function manually into the notebook, you can simply provide the file path.  \n",
    "`ScriptBuilder` will import and execute the function from that file in the context of the current HFSS design.\n",
    "\n",
    "This is particularly helpful for modular projects where simulation setup logic is kept in external scripts."
   ]
  },
  {
   "cell_type": "code",
   "execution_count": 27,
   "metadata": {},
   "outputs": [
    {
     "name": "stdout",
     "output_type": "stream",
     "text": [
      "CHIP BASE VALUE BEFORE: 30mm\n",
      "CHIP BASE VALUE AFTER: 20mm\n"
     ]
    }
   ],
   "source": [
    "from pysubmit.workflow.builder.script_builder import ScriptBuilder\n",
    "\n",
    "script_builder = ScriptBuilder(\n",
    "    path='./builder_scripts/script_builder_function.py'\n",
    ")\n",
    "\n",
    "print(\"CHIP BASE VALUE BEFORE:\", hfss[\"chip_base_length\"])\n",
    "builded_parameters = script_builder.build(hfss, parameters={'value': '20mm'})\n",
    "print(\"CHIP BASE VALUE AFTER:\", hfss[\"chip_base_length\"])"
   ]
  },
  {
   "cell_type": "code",
   "execution_count": 28,
   "id": "2aa8ee92",
   "metadata": {},
   "outputs": [
    {
     "name": "stdout",
     "output_type": "stream",
     "text": [
      "PyAEDT INFO: Desktop has been released and closed.\n"
     ]
    },
    {
     "data": {
      "text/plain": [
       "True"
      ]
     },
     "execution_count": 28,
     "metadata": {},
     "output_type": "execute_result"
    }
   ],
   "source": [
    "hfss.release_desktop()\n"
   ]
  }
 ],
 "metadata": {
  "kernelspec": {
   "display_name": ".venv",
   "language": "python",
   "name": "python3"
  },
  "language_info": {
   "codemirror_mode": {
    "name": "ipython",
    "version": 3
   },
   "file_extension": ".py",
   "mimetype": "text/x-python",
   "name": "python",
   "nbconvert_exporter": "python",
   "pygments_lexer": "ipython3",
   "version": "3.11.3"
  }
 },
 "nbformat": 4,
 "nbformat_minor": 5
}
