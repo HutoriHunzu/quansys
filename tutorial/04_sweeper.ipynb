{
 "cells": [
  {
   "cell_type": "markdown",
   "id": "883f68ac",
   "metadata": {},
   "source": [
    "## 04_sweeper.ipynb\n",
    "\n",
    "In this tutorial we are going to cover the **Sweeper** module.\n",
    "\n",
    "The sweeper is a simple utility that helps generate different parameter sets from a single config.\n",
    "It's really useful when sweeping a design or simulating over many parameter combinations.\n",
    "\n",
    "We are going to cover:\n",
    "\n",
    "1. Input format\n",
    "2. Using `ProductSweep` and `ZipSweep`\n"
   ]
  },
  {
   "cell_type": "markdown",
   "id": "e4b2254c",
   "metadata": {},
   "source": [
    "### input format\n",
    "\n",
    "As mentioned, the input format can be either a flat or nested dictionary.  \n",
    "Any value that is a list or tuple is interpreted as something to sweep over.\n",
    "\n",
    "We'll use `ProductSweep` to show some examples:\n"
   ]
  },
  {
   "cell_type": "code",
   "execution_count": 1,
   "metadata": {},
   "outputs": [
    {
     "name": "stdout",
     "output_type": "stream",
     "text": [
      "SIMPLE INPUT: \n",
      "{'a': [1, 2, 3]}\n",
      "\n",
      "{'a': 1}\n",
      "{'a': 2}\n",
      "{'a': 3}\n",
      "\n",
      "\n",
      "\n",
      "NESTED INPUT: \n",
      "{'a': {'b': {'c': [1, 2, 3]}}, 'd': 5}\n",
      "\n",
      "{'a': {'b': {'c': 1}}, 'd': 5}\n",
      "{'a': {'b': {'c': 2}}, 'd': 5}\n",
      "{'a': {'b': {'c': 3}}, 'd': 5}\n"
     ]
    }
   ],
   "source": [
    "from pysubmit.workflow.sweep import ProductSweep\n",
    "\n",
    "\n",
    "simple_input = {\n",
    "    'a' : [1,2,3]\n",
    "}\n",
    "\n",
    "print(f'SIMPLE INPUT: \\n{simple_input}\\n')\n",
    "\n",
    "for elem in ProductSweep(parameters=simple_input).generate():\n",
    "    print(elem)\n",
    "\n",
    "print('\\n\\n')\n",
    "\n",
    "nested_input = {'a': {'b': {'c': [1,2,3]}}, 'd': 5}\n",
    "print(f'NESTED INPUT: \\n{nested_input}\\n')\n",
    "\n",
    "for elem in ProductSweep(parameters=nested_input).generate():\n",
    "    print(elem)"
   ]
  },
  {
   "cell_type": "markdown",
   "id": "45a775ad",
   "metadata": {},
   "source": [
    "### complex sweep types\n",
    "\n",
    "Apart from plain lists/tuples, we also support complex sweep types using dicts.\n",
    "\n",
    "Currently supported types:\n",
    "- **range**: like python's built-in `range()`\n",
    "- **linspace**: like numpy's linspace (but no need for numpy)\n",
    "\n",
    "Examples:\n"
   ]
  },
  {
   "cell_type": "code",
   "execution_count": 2,
   "metadata": {},
   "outputs": [
    {
     "name": "stdout",
     "output_type": "stream",
     "text": [
      "RANGE INPUT: \n",
      "{'a': {'type': 'range', 'start': 1, 'end': 4, 'step': 1, 'return_type': 'int'}}\n",
      "\n",
      "{'a': 1}\n",
      "{'a': 2}\n",
      "{'a': 3}\n",
      "\n",
      "\n",
      "\n",
      "LINSPACE INPUT: \n",
      "{'a': {'type': 'linspace', 'start': 1, 'end': 3, 'number': 3, 'return_type': 'int'}}\n",
      "\n",
      "{'a': 1}\n",
      "{'a': 2}\n",
      "{'a': 3}\n"
     ]
    }
   ],
   "source": [
    "range_input = {\n",
    "    'a' :{\n",
    "        'type': 'range',\n",
    "        'start': 1,\n",
    "        'end': 4,\n",
    "        'step': 1,\n",
    "        'return_type': 'int'}\n",
    "}\n",
    "\n",
    "print(f'RANGE INPUT: \\n{range_input}\\n')\n",
    "\n",
    "for elem in ProductSweep(parameters=range_input).generate():\n",
    "    print(elem)\n",
    "\n",
    "print('\\n\\n')\n",
    "\n",
    "linspace_input = {\n",
    "    'a' :{\n",
    "        'type': 'linspace',\n",
    "        'start': 1,\n",
    "        'end': 3,\n",
    "        'number': 3,\n",
    "        'return_type': 'int'}\n",
    "}\n",
    "\n",
    "print(f'LINSPACE INPUT: \\n{linspace_input}\\n')\n",
    "\n",
    "for elem in ProductSweep(parameters=linspace_input).generate():\n",
    "    print(elem)"
   ]
  },
  {
   "cell_type": "markdown",
   "id": "18c9687c",
   "metadata": {},
   "source": [
    "### product vs zip\n",
    "\n",
    "There are two kinds of sweepers:\n",
    "\n",
    "- `ProductSweep`: Cartesian product of all input combinations\n",
    "- `ZipSweep`: zips inputs together just like Python's built-in `zip()`\n",
    "\n",
    "Here's a comparison:\n"
   ]
  },
  {
   "cell_type": "code",
   "execution_count": 3,
   "metadata": {},
   "outputs": [
    {
     "name": "stdout",
     "output_type": "stream",
     "text": [
      "SWEEP INPUT: \n",
      "{'a': [1, 2, 3], 'b': [4, 5, 6]}\n",
      "\n",
      "####################\n",
      "PRODUCT CASE:\n",
      "{'a': 1, 'b': 4}\n",
      "{'a': 1, 'b': 5}\n",
      "{'a': 1, 'b': 6}\n",
      "{'a': 2, 'b': 4}\n",
      "{'a': 2, 'b': 5}\n",
      "{'a': 2, 'b': 6}\n",
      "{'a': 3, 'b': 4}\n",
      "{'a': 3, 'b': 5}\n",
      "{'a': 3, 'b': 6}\n",
      "\n",
      "####################\n",
      "ZIP CASE:\n",
      "{'a': 1, 'b': 4}\n",
      "{'a': 2, 'b': 5}\n",
      "{'a': 3, 'b': 6}\n"
     ]
    }
   ],
   "source": [
    "from pysubmit.workflow.sweep import ZipSweep\n",
    "\n",
    "\n",
    "sweeper_input = {\n",
    "    'a' : [1,2,3],\n",
    "    'b' : [4,5,6]\n",
    "}\n",
    "\n",
    "print(f'SWEEP INPUT: \\n{sweeper_input}')\n",
    "\n",
    "print(f'\\n{\"#\"* 20}\\nPRODUCT CASE:')\n",
    "\n",
    "for elem in ProductSweep(parameters=sweeper_input).generate():\n",
    "    print(elem)\n",
    "\n",
    "print(f'\\n{\"#\"* 20}\\nZIP CASE:')\n",
    "for elem in ZipSweep(parameters=sweeper_input).generate():\n",
    "    print(elem)\n"
   ]
  }
 ],
 "metadata": {
  "kernelspec": {
   "display_name": ".venv",
   "language": "python",
   "name": "python3"
  },
  "language_info": {
   "codemirror_mode": {
    "name": "ipython",
    "version": 3
   },
   "file_extension": ".py",
   "mimetype": "text/x-python",
   "name": "python",
   "nbconvert_exporter": "python",
   "pygments_lexer": "ipython3",
   "version": "3.11.3"
  }
 },
 "nbformat": 4,
 "nbformat_minor": 2
}
