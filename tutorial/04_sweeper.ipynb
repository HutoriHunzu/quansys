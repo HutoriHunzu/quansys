{
 "cells": [
  {
   "cell_type": "markdown",
   "metadata": {},
   "source": [
    "# 04_sweeper\n",
    "\n",
    "In this tutorial, we cover the **Sweeper** module.\n",
    "\n",
    "The sweeper is a utility that helps generate different parameter sets from a single configuration.\n",
    "It's really useful when sweeping a design or simulating over many parameter combinations.\n",
    "\n",
    "We will cover:\n",
    "1. Input format\n",
    "2. Using `ProductSweep` and `ZipSweep`\n"
   ]
  },
  {
   "cell_type": "markdown",
   "metadata": {},
   "source": [
    "## 1. Input Format\n",
    "\n",
    "The input format can be either a flat or nested dictionary.  \n",
    "Any value that is a list or tuple is interpreted as something to sweep over.\n",
    "\n",
    "We'll use `ProductSweep` to show some examples."
   ]
  },
  {
   "cell_type": "code",
   "execution_count": 1,
   "metadata": {
    "collapsed": false
   },
   "outputs": [
    {
     "name": "stdout",
     "output_type": "stream",
     "text": [
      "SIMPLE INPUT: {'a': [1, 2, 3]}\n",
      "{'a': 1}\n",
      "{'a': 2}\n",
      "{'a': 3}\n",
      "\n",
      "NESTED INPUT: {'a': {'b': {'c': [1, 2, 3]}}, 'd': 5}\n",
      "{'a': {'b': {'c': 1}}, 'd': 5}\n",
      "{'a': {'b': {'c': 2}}, 'd': 5}\n",
      "{'a': {'b': {'c': 3}}, 'd': 5}\n"
     ]
    }
   ],
   "source": [
    "from pysubmit.workflow.sweep import ProductSweep\n",
    "\n",
    "# ### 1.1 Simple Input with ProductSweep\n",
    "simple_input = {\n",
    "    'a' : [1,2,3]\n",
    "}\n",
    "print('SIMPLE INPUT:', simple_input)\n",
    "\n",
    "for elem in ProductSweep(parameters=simple_input).generate():\n",
    "    print(elem)\n",
    "\n",
    "# ### 1.2 Nested Input with ProductSweep\n",
    "nested_input = {'a': {'b': {'c': [1,2,3]}}, 'd': 5}\n",
    "print('\\nNESTED INPUT:', nested_input)\n",
    "\n",
    "for elem in ProductSweep(parameters=nested_input).generate():\n",
    "    print(elem)"
   ]
  },
  {
   "cell_type": "markdown",
   "metadata": {},
   "source": [
    "## 2. Complex Sweep Types\n",
    "Apart from plain lists/tuples, we also support advanced sweep definitions using dicts.\n",
    "\n",
    "Currently supported:\n",
    "- **range**: like python's built-in `range()`\n",
    "- **linspace**: like numpy's linspace (but no need for numpy)\n"
   ]
  },
  {
   "cell_type": "code",
   "execution_count": 2,
   "metadata": {
    "collapsed": false
   },
   "outputs": [
    {
     "name": "stdout",
     "output_type": "stream",
     "text": [
      "RANGE INPUT: {'a': {'type': 'range', 'start': 1, 'end': 4, 'step': 1, 'return_type': 'int'}}\n",
      "{'a': 1}\n",
      "{'a': 2}\n",
      "{'a': 3}\n",
      "\n",
      "LINSPACE INPUT: {'a': {'type': 'linspace', 'start': 1, 'end': 3, 'number': 3, 'return_type': 'int'}}\n",
      "{'a': 1}\n",
      "{'a': 2}\n",
      "{'a': 3}\n"
     ]
    }
   ],
   "source": [
    "# ### 2.1 range-based sweep\n",
    "range_input = {\n",
    "    'a': {\n",
    "        'type': 'range',\n",
    "        'start': 1,\n",
    "        'end': 4,\n",
    "        'step': 1,\n",
    "        'return_type': 'int'\n",
    "    }\n",
    "}\n",
    "print('RANGE INPUT:', range_input)\n",
    "for elem in ProductSweep(parameters=range_input).generate():\n",
    "    print(elem)\n",
    "\n",
    "# ### 2.2 linspace-based sweep\n",
    "linspace_input = {\n",
    "    'a' :{\n",
    "        'type': 'linspace',\n",
    "        'start': 1,\n",
    "        'end': 3,\n",
    "        'number': 3,\n",
    "        'return_type': 'int'\n",
    "    }\n",
    "}\n",
    "print('\\nLINSPACE INPUT:', linspace_input)\n",
    "for elem in ProductSweep(parameters=linspace_input).generate():\n",
    "    print(elem)"
   ]
  },
  {
   "cell_type": "markdown",
   "metadata": {},
   "source": [
    "## 3. Product vs Zip\n",
    "There are two kinds of sweepers:\n",
    "- `ProductSweep`: Cartesian product of all input combinations\n",
    "- `ZipSweep`: zips inputs together just like Python's built-in `zip()`\n",
    "\n",
    "Here's a comparison:"
   ]
  },
  {
   "cell_type": "code",
   "execution_count": 3,
   "metadata": {},
   "outputs": [
    {
     "name": "stdout",
     "output_type": "stream",
     "text": [
      "SWEEP INPUT: {'a': [1, 2, 3], 'b': [4, 5, 6]}\n",
      "\n",
      "PRODUCT CASE:\n",
      "{'a': 1, 'b': 4}\n",
      "{'a': 1, 'b': 5}\n",
      "{'a': 1, 'b': 6}\n",
      "{'a': 2, 'b': 4}\n",
      "{'a': 2, 'b': 5}\n",
      "{'a': 2, 'b': 6}\n",
      "{'a': 3, 'b': 4}\n",
      "{'a': 3, 'b': 5}\n",
      "{'a': 3, 'b': 6}\n",
      "\n",
      "ZIP CASE:\n",
      "{'a': 1, 'b': 4}\n",
      "{'a': 2, 'b': 5}\n",
      "{'a': 3, 'b': 6}\n"
     ]
    }
   ],
   "source": [
    "from pysubmit.workflow.sweep import ZipSweep\n",
    "\n",
    "sweeper_input = {\n",
    "    'a' : [1,2,3],\n",
    "    'b' : [4,5,6]\n",
    "}\n",
    "\n",
    "print('SWEEP INPUT:', sweeper_input)\n",
    "print('\\nPRODUCT CASE:')\n",
    "for elem in ProductSweep(parameters=sweeper_input).generate():\n",
    "    print(elem)\n",
    "\n",
    "print('\\nZIP CASE:')\n",
    "for elem in ZipSweep(parameters=sweeper_input).generate():\n",
    "    print(elem)"
   ]
  },
  {
   "cell_type": "markdown",
   "metadata": {},
   "source": [
    "## Conclusion\n",
    "In this tutorial, we:\n",
    "- Showed how to feed **flat or nested dictionaries** into `ProductSweep`.\n",
    "- Used **range** and **linspace** types for more complex sweeping.\n",
    "- Compared `ProductSweep` and `ZipSweep`.\n",
    "\n",
    "You can combine these sweeps with **builder** objects and **simulations** to produce a fully automated parameter exploration workflow."
   ]
  }
 ],
 "metadata": {
  "kernelspec": {
   "display_name": ".venv",
   "language": "python",
   "name": "python3"
  },
  "language_info": {
   "codemirror_mode": {
    "name": "ipython",
    "version": 3
   },
   "file_extension": ".py",
   "mimetype": "text/x-python",
   "name": "python",
   "nbconvert_exporter": "python",
   "pygments_lexer": "ipython3",
   "version": "3.11.3"
  }
 },
 "nbformat": 4,
 "nbformat_minor": 2
}
