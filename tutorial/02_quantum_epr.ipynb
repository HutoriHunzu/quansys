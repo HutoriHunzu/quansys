{
 "cells": [
  {
   "cell_type": "markdown",
   "metadata": {},
   "source": [
    "# 02_quantum_epr\n",
    "\n",
    "This notebook demonstrates how to use the **Quantum EPR simulation** features provided by the `pysubmit` package.\n",
    "\n",
    "You will learn how to:\n",
    "\n",
    "1. Configure junctions for superconducting circuits\n",
    "2. Assign labels to eigenmodes using inference strategies\n",
    "3. Combine labeling strategies\n",
    "4. Build a Quantum EPR simulation object\n",
    "\n",
    "> **Note:**  \n",
    "> The `QuantumEpr` simulation class builds upon `EigenmodeAnalysis` and adds domain-specific tools for analyzing superconducting quantum devices."
   ]
  },
  {
   "cell_type": "markdown",
   "metadata": {},
   "source": [
    "## Prerequisites\n",
    "- Ensure `pysubmit` is installed.\n",
    "- Familiarity with `EigenmodeAnalysis` from the previous tutorial.\n"
   ]
  },
  {
   "cell_type": "markdown",
   "metadata": {},
   "source": [
    "### Step 1: Configure Junctions\n",
    "Define the Josephson junctions used in your design, including the variable name representing their inductance."
   ]
  },
  {
   "cell_type": "code",
   "execution_count": 1,
   "metadata": {},
   "outputs": [],
   "source": [
    "from pysubmit.simulation import QuantumEpr\n",
    "from pysubmit.simulation.quantum_epr import ConfigJunction, ModesAndLabels, ManualInference, OrderInference\n",
    "\n",
    "# Create a junction configuration\n",
    "junction_config = ConfigJunction(\n",
    "    name='my_junction_name',\n",
    "    inductance_variable_name='Lj'\n",
    ")"
   ]
  },
  {
   "cell_type": "markdown",
   "metadata": {},
   "source": [
    "### Step 2: Define Mode Labeling Strategies\n",
    "Use one or more strategies to assign labels to modes:\n",
    "\n",
    "- **ManualInference**: Assign a known label to a specific mode\n",
    "- **OrderInference**: Automatically label modes based on their frequency or Q-factor"
   ]
  },
  {
   "cell_type": "code",
   "execution_count": 2,
   "metadata": {},
   "outputs": [
    {
     "name": "stdout",
     "output_type": "stream",
     "text": [
      "Manual Inference Result: {3: 'uri'}\n",
      "Ordered Inference Result: {5: 'readout', 6: 'purcell'}\n"
     ]
    }
   ],
   "source": [
    "# Mock eigenmode results\n",
    "eigenmode_results = {\n",
    "    1: {'frequency': 2, 'quality_factor': 50000},\n",
    "    2: {'frequency': 3.5, 'quality_factor': 2000},\n",
    "    3: {'frequency': 4.5, 'quality_factor': 3000},\n",
    "    4: {'frequency': 5.5, 'quality_factor': 6000},\n",
    "    5: {'frequency': 6.5, 'quality_factor': 300},\n",
    "    6: {'frequency': 7.5, 'quality_factor': 500}\n",
    "}\n",
    "\n",
    "# Manual labeling\n",
    "manual_inference = ManualInference(mode_number=3, label='uri')\n",
    "manual_result = manual_inference.infer(eigenmode_results=eigenmode_results)\n",
    "print(\"Manual Inference Result:\", manual_result)\n",
    "\n",
    "# Ordered labeling by lowest Q-factor\n",
    "order_inference = OrderInference(\n",
    "    num=2,\n",
    "    min_or_max='min',\n",
    "    ordered_labels_by_frequency=['readout', 'purcell'],\n",
    "    quantity='quality_factor'\n",
    ")\n",
    "order_result = order_inference.infer(eigenmode_results=eigenmode_results)\n",
    "print(\"Ordered Inference Result:\", order_result)\n",
    "\n",
    "# Combine multiple strategies\n",
    "complex_modes_to_labels = ModesAndLabels(inferences=[manual_inference, order_inference])"
   ]
  },
  {
   "cell_type": "markdown",
   "metadata": {},
   "source": [
    "### Step 3: Create the Quantum EPR Simulation Object\n",
    "After setting up junctions and mode labeling, create the `QuantumEpr` simulation object."
   ]
  },
  {
   "cell_type": "code",
   "execution_count": 3,
   "metadata": {},
   "outputs": [
    {
     "name": "stdout",
     "output_type": "stream",
     "text": [
      "Quantum EPR simulation created.\n"
     ]
    }
   ],
   "source": [
    "quantum_sim = QuantumEpr(\n",
    "    setup_name='Setup1',\n",
    "    design_name='my_design',\n",
    "    modes_to_labels=complex_modes_to_labels,\n",
    "    junctions_infos=junction_config\n",
    ")\n",
    "print(\"Quantum EPR simulation created.\")"
   ]
  },
  {
   "cell_type": "markdown",
   "metadata": {},
   "source": [
    "## Conclusion\n",
    "In this notebook, we:\n",
    "- Configured a **Josephson junction** (`ConfigJunction`).\n",
    "- Explored **ManualInference** and **OrderInference** to label modes.\n",
    "- Built a **QuantumEpr** object that combines eigenmode simulation with quantum-specific tools.\n",
    "\n",
    "Next steps might include integrating these labeled modes into broader workflows, or exploring how these labels get used in subsequent simulations or data aggregations."
   ]
  }
 ],
 "metadata": {
  "kernelspec": {
   "display_name": ".venv",
   "language": "python",
   "name": "python3"
  },
  "language_info": {
   "codemirror_mode": {
    "name": "ipython",
    "version": 3
   },
   "file_extension": ".py",
   "mimetype": "text/x-python",
   "name": "python",
   "nbconvert_exporter": "python",
   "pygments_lexer": "ipython3",
   "version": "3.11.3"
  }
 },
 "nbformat": 4,
 "nbformat_minor": 5
}
