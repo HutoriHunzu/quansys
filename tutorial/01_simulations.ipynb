{
 "cells": [
  {
   "cell_type": "markdown",
   "metadata": {},
   "source": [
    "# 01_simulations\n",
    "\n",
    "This notebook demonstrates the **Simulation** capabilities of the `pysubmit` package. Specifically, it walks through:\n",
    "\n",
    "1. Running an **Eigenmode** simulation\n",
    "2. Inspecting and saving simulation results\n",
    "3. Serialize and save results\n",
    "4. Adjusting simulation parameters\n",
    "5. Serializing and deserializing simulation objects\n",
    "\n",
    "> **Note**:\n",
    "> The `pysubmit.simulation` module supports multiple simulation classes.\n",
    "> In this tutorial, we focus on one: `EigenmodeAnalysis`."
   ]
  },
  {
   "cell_type": "markdown",
   "metadata": {},
   "source": [
    "## Prerequisites\n",
    "- Make sure `pyaedt` and `pysubmit` are installed and accessible.\n",
    "- We assume an existing HFSS project file is available at `./designs/simple_design.aedt`."
   ]
  },
  {
   "cell_type": "markdown",
   "metadata": {},
   "source": [
    "### Step 1: Imports and Setup"
   ]
  },
  {
   "cell_type": "code",
   "execution_count": 1,
   "metadata": {},
   "outputs": [],
   "source": [
    "from pysubmit.simulation import EigenmodeAnalysis\n",
    "from ansys.aedt.core.hfss import Hfss\n",
    "\n",
    "# HFSS project path\n",
    "hfss_file_path = './designs/simple_design.aedt'"
   ]
  },
  {
   "cell_type": "markdown",
   "metadata": {},
   "source": [
    "### Step 2: Open Project and Run an Eigenmode Simulation\n",
    "We�ll open an existing HFSS project using `pyaedt`, then use it to create and run an eigenmode simulation."
   ]
  },
  {
   "cell_type": "code",
   "execution_count": 2,
   "metadata": {},
   "outputs": [
    {
     "name": "stdout",
     "output_type": "stream",
     "text": [
      "PyAEDT INFO: Parsing ./designs/simple_design.aedt.\n",
      "PyAEDT INFO: Python version 3.11.3 (tags/v3.11.3:f3909b8, Apr  4 2023, 23:49:59) [MSC v.1934 64 bit (AMD64)]\n",
      "PyAEDT INFO: PyAEDT version 0.13.0.\n",
      "PyAEDT INFO: Initializing new Desktop session.\n",
      "PyAEDT INFO: Log on console is enabled.\n",
      "PyAEDT INFO: File ./designs/simple_design.aedt correctly loaded. Elapsed time: 0m 0sec\n",
      "PyAEDT INFO: Log on file C:\\Users\\rosengrp\\AppData\\Local\\Temp\\pyaedt_rosengrp_e51ae643-13fa-4bfd-a9f4-1b116029b696.log is enabled.\n",
      "PyAEDT INFO: Log on AEDT is enabled.\n",
      "PyAEDT INFO: Debug logger is disabled. PyAEDT methods will not be logged.\n",
      "PyAEDT INFO: Launching PyAEDT with gRPC plugin.\n",
      "PyAEDT INFO: New AEDT session is starting on gRPC port 54319\n",
      "PyAEDT INFO: AEDT installation Path C:\\Program Files\\AnsysEM\\v242\\Win64\n",
      "PyAEDT INFO: Ansoft.ElectronicsDesktop.2024.2 version started with process ID 13048.\n",
      "PyAEDT INFO: Project simple_design has been opened.\n",
      "PyAEDT INFO: Aedt Objects correctly read\n",
      "PyAEDT INFO: Python version 3.11.3 (tags/v3.11.3:f3909b8, Apr  4 2023, 23:49:59) [MSC v.1934 64 bit (AMD64)]\n",
      "PyAEDT INFO: PyAEDT version 0.13.0.\n",
      "PyAEDT INFO: Returning found Desktop session with PID 13048!\n",
      "PyAEDT INFO: Project simple_design set to active.\n",
      "PyAEDT INFO: Aedt Objects correctly read\n",
      "PyAEDT INFO: Parsing c:/Users/rosengrp/Documents/GitHub/pysubmit/tutorial/./designs/simple_design.aedt.\n",
      "PyAEDT INFO: File c:/Users/rosengrp/Documents/GitHub/pysubmit/tutorial/./designs/simple_design.aedt correctly loaded. Elapsed time: 0m 0sec\n",
      "PyAEDT INFO: aedt file load time 0.0468747615814209\n",
      "PyAEDT INFO: Key Desktop/ActiveDSOConfigurations/HFSS correctly changed.\n",
      "PyAEDT INFO: Solving design setup Setup1\n",
      "PyAEDT INFO: Key Desktop/ActiveDSOConfigurations/HFSS correctly changed.\n",
      "PyAEDT ERROR: Error in Solving Setup Setup1\n",
      "PyAEDT INFO: Project simple_design Saved correctly\n",
      "PyAEDT INFO: Parsing c:/Users/rosengrp/Documents/GitHub/pysubmit/tutorial/./designs/simple_design.aedt.\n",
      "PyAEDT INFO: File c:/Users/rosengrp/Documents/GitHub/pysubmit/tutorial/./designs/simple_design.aedt correctly loaded. Elapsed time: 0m 0sec\n",
      "PyAEDT INFO: aedt file load time 0.06467938423156738\n",
      "PyAEDT INFO: PostProcessor class has been initialized! Elapsed time: 0m 0sec\n",
      "PyAEDT INFO: Post class has been initialized! Elapsed time: 0m 0sec\n",
      "PyAEDT INFO: Solution Data Correctly Loaded.\n",
      "PyAEDT INFO: Solution Data Correctly Loaded.\n",
      "PyAEDT INFO: Solution Data Correctly Loaded.\n",
      "PyAEDT INFO: Desktop has been released and closed.\n"
     ]
    }
   ],
   "source": [
    "# Create and run an eigenmode simulation\n",
    "with Hfss(\n",
    "    project=hfss_file_path,\n",
    "    design='my_design',\n",
    "    remove_lock=True,\n",
    "    close_on_exit=True\n",
    ") as hfss:\n",
    "    simulation = EigenmodeAnalysis(setup_name='Setup1', design_name='my_design')\n",
    "    result = simulation.analyze(hfss)\n",
    "    # The PyAEDT logs may appear here; they are normal and can be ignored unless debugging."
   ]
  },
  {
   "cell_type": "markdown",
   "metadata": {},
   "source": [
    "### Step 3: Inspect the Simulation Results\n",
    "Once the simulation is complete, it returns a **result** object with:\n",
    "- Printable summary\n",
    "- JSON-serializable structure\n",
    "\n",
    "Let�s print the first mode�s frequency and Q-factor."
   ]
  },
  {
   "cell_type": "code",
   "execution_count": 3,
   "metadata": {},
   "outputs": [
    {
     "name": "stdout",
     "output_type": "stream",
     "text": [
      "Eigenmode Simulation Results:\n",
      "type=<SimulationOutputTypesNames.EIGENMODE_RESULT: 'eigenmode_result'> results={1: SingleModeResult(mode_number=1, quality_factor=0.0, frequency=Value(value=7.939595892830551, unit='GHz'), label=None)} frequencies_unit='GHz'\n",
      "Mode 1 frequency: value=7.939595892830551 unit='GHz'\n",
      "Mode 1 Q-factor: 0.0\n"
     ]
    }
   ],
   "source": [
    "# Access mode 1 results\n",
    "print(\"Eigenmode Simulation Results:\")\n",
    "print(result)\n",
    "print(f\"Mode 1 frequency: {result.results[1].frequency}\")\n",
    "print(f\"Mode 1 Q-factor: {result.results[1].quality_factor}\")"
   ]
  },
  {
   "cell_type": "markdown",
   "metadata": {},
   "source": [
    "### Step 4: Serialize and Save Results\n",
    "You can serialize the results into JSON format for logging or further processing."
   ]
  },
  {
   "cell_type": "code",
   "execution_count": 4,
   "metadata": {},
   "outputs": [
    {
     "name": "stdout",
     "output_type": "stream",
     "text": [
      "Serialized Results:\n",
      " {\n",
      "    \"type\": \"eigenmode_result\",\n",
      "    \"results\": {\n",
      "        \"1\": {\n",
      "            \"mode_number\": 1,\n",
      "            \"quality_factor\": 0.0,\n",
      "            \"frequency\": {\n",
      "                \"value\": 7.939595892830551,\n",
      "                \"unit\": \"GHz\"\n",
      "            },\n",
      "            \"label\": null\n",
      "        }\n",
      "    },\n",
      "    \"frequencies_unit\": \"GHz\"\n",
      "}\n"
     ]
    }
   ],
   "source": [
    "result_as_json = result.model_dump_json(indent=4)\n",
    "print(\"Serialized Results:\\n\", result_as_json)\n",
    "\n",
    "# Save the JSON to a file\n",
    "with open('my_results.json', 'w') as f:\n",
    "    f.write(result_as_json)"
   ]
  },
  {
   "cell_type": "markdown",
   "metadata": {},
   "source": [
    "### Step 5: Adjust Simulation Setup Parameters\n",
    "You can modify parameters before running the simulation if you need different passes, frequency ranges, etc."
   ]
  },
  {
   "cell_type": "code",
   "execution_count": 5,
   "metadata": {},
   "outputs": [
    {
     "name": "stdout",
     "output_type": "stream",
     "text": [
      "Updated simulation parameters: {'MaximumPasses': 4, 'MinimumPasses': 1, 'NumModes': 3, 'MinimumFrequency': '2GHz'}\n"
     ]
    }
   ],
   "source": [
    "# Example simulation parameters\n",
    "simulation.setup_parameters = {\n",
    "    'MaximumPasses': 4,\n",
    "    'MinimumPasses': 1,\n",
    "    'NumModes': 3,\n",
    "    'MinimumFrequency': '2GHz',\n",
    "    # More parameters...\n",
    "}\n",
    "print(\"Updated simulation parameters:\", simulation.setup_parameters)"
   ]
  },
  {
   "cell_type": "markdown",
   "metadata": {},
   "source": [
    "### Step 6: Serialize and Reload the Simulation Object\n",
    "In some workflows, you may want to reuse the same simulation configuration across different designs or sessions."
   ]
  },
  {
   "cell_type": "code",
   "execution_count": 6,
   "metadata": {},
   "outputs": [
    {
     "name": "stdout",
     "output_type": "stream",
     "text": [
      "Serialized Simulation Object:\n",
      " {\n",
      "    \"type\": \"eigenmode\",\n",
      "    \"setup_name\": \"Setup1\",\n",
      "    \"design_name\": \"my_design\",\n",
      "    \"cores\": 4,\n",
      "    \"gpus\": 0,\n",
      "    \"setup_parameters\": {\n",
      "        \"MaximumPasses\": 4,\n",
      "        \"MinimumPasses\": 1,\n",
      "        \"NumModes\": 3,\n",
      "        \"MinimumFrequency\": \"2GHz\"\n",
      "    }\n",
      "}\n",
      "Loaded Simulation: type=<SimulationTypesNames.EIGENMODE: 'eigenmode'> setup_name='Setup1' design_name='my_design' cores=4 gpus=0 setup_parameters={'MaximumPasses': 4, 'MinimumPasses': 1, 'NumModes': 3, 'MinimumFrequency': '2GHz'}\n"
     ]
    }
   ],
   "source": [
    "simulation_as_string = simulation.model_dump_json(indent=4)\n",
    "print(\"Serialized Simulation Object:\\n\", simulation_as_string)\n",
    "\n",
    "# Save to disk\n",
    "with open('my_simulation.json', 'w') as f:\n",
    "    f.write(simulation_as_string)\n",
    "\n",
    "# Reload\n",
    "with open('my_simulation.json', 'r') as f:\n",
    "    data = f.read()\n",
    "\n",
    "simulation_loaded = EigenmodeAnalysis.model_validate_json(data)\n",
    "print(\"Loaded Simulation:\", simulation_loaded)"
   ]
  },
  {
   "cell_type": "markdown",
   "metadata": {},
   "source": [
    "## Conclusion\n",
    "\n",
    "In this tutorial, we:\n",
    "\n",
    "- Set up and ran an **eigenmode simulation** using `pysubmit.simulation.EigenmodeAnalysis`.\n",
    "- Explored the **results object**, showing frequencies and Q-factors.\n",
    "- Demonstrated how to **serialize** results and simulation objects for reuse.\n",
    "\n",
    "In the following tutorials, you'll see how these simulation objects combine with other features like sweepers, builders, and data handlers to create powerful automated workflows."
   ]
  }
 ],
 "metadata": {
  "kernelspec": {
   "display_name": ".venv",
   "language": "python",
   "name": "python3"
  },
  "language_info": {
   "codemirror_mode": {
    "name": "ipython",
    "version": 3
   },
   "file_extension": ".py",
   "mimetype": "text/x-python",
   "name": "python",
   "nbconvert_exporter": "python",
   "pygments_lexer": "ipython3",
   "version": "3.11.3"
  }
 },
 "nbformat": 4,
 "nbformat_minor": 2
}
