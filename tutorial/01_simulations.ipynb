{
 "cells": [
  {
   "cell_type": "markdown",
   "metadata": {},
   "source": [
    "## 01_simulation.ipynb\n",
    "\n",
    "This notebook demonstrates the **Simulation** capabilities of the `pysubmit` package. Specifically, it walks through:\n",
    "\n",
    "1. Running an **Eigenmode** simulation\n",
    "2. Inspecting and saving simulation results\n",
    "3. Serialize and save results\n",
    "4. Adjusting simulation parameters\n",
    "5. Serializing and deserializing simulation objects\n",
    "\n",
    "> **Note**:\n",
    "> The `pysubmit.simulation` module supports multiple simulation classes.  \n",
    "> In this tutorial, we focus on two: `EigenmodeAnalysis`.\n"
   ]
  },
  {
   "cell_type": "code",
   "execution_count": 1,
   "metadata": {},
   "outputs": [],
   "source": [
    "# 1.1 Import required classes\n",
    "from pysubmit.simulation import EigenmodeAnalysis\n",
    "from pyaedt.hfss import Hfss"
   ]
  },
  {
   "cell_type": "markdown",
   "metadata": {},
   "source": [
    "### Step 1: Set up and run an Eigenmode simulation\n",
    "\n",
    "We’ll begin by opening an existing HFSS project using `pyaedt`, then use it to create and run an eigenmode simulation."
   ]
  },
  {
   "cell_type": "code",
   "execution_count": 2,
   "metadata": {},
   "outputs": [
    {
     "name": "stdout",
     "output_type": "stream",
     "text": [
      "PyAEDT INFO: Parsing simple_design_readout.aedt.\n",
      "PyAEDT INFO: Python version 3.11.3 (tags/v3.11.3:f3909b8, Apr  4 2023, 23:49:59) [MSC v.1934 64 bit (AMD64)].\n",
      "PyAEDT INFO: PyAEDT version 0.15.1.\n",
      "PyAEDT INFO: File simple_design_readout.aedt correctly loaded. Elapsed time: 0m 0sec\n",
      "PyAEDT INFO: Initializing new Desktop session.\n",
      "PyAEDT INFO: Log on console is enabled.\n",
      "PyAEDT INFO: Log on file C:\\Users\\rosengrp\\AppData\\Local\\Temp\\pyaedt_rosengrp_9e1047e2-1f1d-4efe-992b-80922eb6f84f.log is enabled.\n",
      "PyAEDT INFO: Log on AEDT is enabled.\n",
      "PyAEDT INFO: Debug logger is disabled. PyAEDT methods will not be logged.\n",
      "PyAEDT INFO: Launching PyAEDT with gRPC plugin.\n",
      "PyAEDT INFO: New AEDT session is starting on gRPC port 52477.\n",
      "PyAEDT INFO: Electronics Desktop started on gRPC port: 52477 after 17.887817859649658 seconds.\n",
      "PyAEDT INFO: AEDT installation Path C:\\Program Files\\AnsysEM\\v242\\Win64\n",
      "PyAEDT INFO: Ansoft.ElectronicsDesktop.2024.2 version started with process ID 34380.\n",
      "PyAEDT INFO: Project simple_design_readout has been opened.\n",
      "PyAEDT INFO: Active Design set to my_design\n",
      "PyAEDT INFO: Aedt Objects correctly read\n",
      "PyAEDT INFO: Python version 3.11.3 (tags/v3.11.3:f3909b8, Apr  4 2023, 23:49:59) [MSC v.1934 64 bit (AMD64)].\n",
      "PyAEDT INFO: PyAEDT version 0.15.1.\n",
      "PyAEDT INFO: Returning found Desktop session with PID 34380!\n",
      "PyAEDT INFO: Project simple_design_readout set to active.\n",
      "PyAEDT INFO: Active Design set to my_design\n",
      "PyAEDT INFO: Aedt Objects correctly read\n",
      "PyAEDT INFO: Parsing c:/Users/rosengrp/Documents/GitHub/pysubmit/tutorial/simple_design_readout.aedt.\n",
      "PyAEDT INFO: File c:/Users/rosengrp/Documents/GitHub/pysubmit/tutorial/simple_design_readout.aedt correctly loaded. Elapsed time: 0m 0sec\n",
      "PyAEDT INFO: aedt file load time 0.049866437911987305\n",
      "PyAEDT INFO: Key Desktop/ActiveDSOConfigurations/HFSS correctly changed.\n",
      "PyAEDT INFO: Solving design setup Setup1\n",
      "PyAEDT INFO: Key Desktop/ActiveDSOConfigurations/HFSS correctly changed.\n",
      "PyAEDT INFO: Design setup Setup1 solved correctly in 0.0h 0.0m 7.0s\n",
      "PyAEDT INFO: Project simple_design_readout Saved correctly\n",
      "PyAEDT INFO: Parsing c:/Users/rosengrp/Documents/GitHub/pysubmit/tutorial/simple_design_readout.aedt.\n",
      "PyAEDT INFO: File c:/Users/rosengrp/Documents/GitHub/pysubmit/tutorial/simple_design_readout.aedt correctly loaded. Elapsed time: 0m 0sec\n",
      "PyAEDT INFO: aedt file load time 0.05900764465332031\n",
      "PyAEDT INFO: PostProcessor class has been initialized! Elapsed time: 0m 0sec\n",
      "PyAEDT INFO: Post class has been initialized! Elapsed time: 0m 0sec\n",
      "PyAEDT INFO: Solution Data Correctly Loaded.\n",
      "PyAEDT INFO: Solution Data Correctly Loaded.\n",
      "PyAEDT INFO: Solution Data Correctly Loaded.\n",
      "PyAEDT INFO: Desktop has been released and closed.\n"
     ]
    }
   ],
   "source": [
    "# 1.2 Open an existing HFSS project and run the simulation\n",
    "with Hfss(\n",
    "    project='simple_design_readout.aedt',\n",
    "    design='my_design',\n",
    "    remove_lock=True,\n",
    "    close_on_exit=True\n",
    ") as hfss:\n",
    "    # Create the simulation object\n",
    "    simulation = EigenmodeAnalysis(setup_name='Setup1', design_name='my_design')\n",
    "\n",
    "    # Run the simulation and store the result\n",
    "    result = simulation.analyze(hfss)\n"
   ]
  },
  {
   "cell_type": "markdown",
   "metadata": {},
   "source": [
    "### Step 2: Inspect the simulation results\n",
    "\n",
    "Once the simulation is complete, it returns a result object.  \n",
    "The structure of this object dependss on the simulation type, but all result objects share two important features:\n",
    "\n",
    "- They are **printable** for easy human inspection\n",
    "- They are **JSON serializable** for saving and reuse\n"
   ]
  },
  {
   "cell_type": "code",
   "execution_count": 3,
   "metadata": {},
   "outputs": [
    {
     "name": "stdout",
     "output_type": "stream",
     "text": [
      "Eigenmode Simulation Results:\n",
      "id='' type=<SimulationOutputTypesNames.EIGENMODE_RESULT: 'eigenmode_result'> results={1: SingleModeResult(mode_number=1, quality_factor=0.0, frequency=Value(value=7.96568506802845, unit='GHz'), label=None)} frequencies_unit='GHz'\n",
      "Mode 1 frequency: value=7.96568506802845 unit='GHz'\n",
      "Mode 1 Q-factor: 0.0\n"
     ]
    }
   ],
   "source": [
    "# 2.1 Print the result summary\n",
    "print(\"Eigenmode Simulation Results:\")\n",
    "print(result)\n",
    "\n",
    "# 2.2 Access specific data, such as mode 1 frequency and Q-factor\n",
    "print(f\"Mode 1 frequency: {result.results[1].frequency}\")\n",
    "print(f\"Mode 1 Q-factor: {result.results[1].quality_factor}\")\n"
   ]
  },
  {
   "cell_type": "markdown",
   "metadata": {},
   "source": [
    "### Step 3: Serialize and save results\n",
    "\n",
    "You can serialize the results into JSON format for logging or further processing, and save them to a file."
   ]
  },
  {
   "cell_type": "code",
   "execution_count": 4,
   "metadata": {},
   "outputs": [
    {
     "name": "stdout",
     "output_type": "stream",
     "text": [
      "Serialized Results:\n",
      "{\n",
      "    \"id\": \"\",\n",
      "    \"type\": \"eigenmode_result\",\n",
      "    \"results\": {\n",
      "        \"1\": {\n",
      "            \"mode_number\": 1,\n",
      "            \"quality_factor\": 0.0,\n",
      "            \"frequency\": {\n",
      "                \"value\": 7.96568506802845,\n",
      "                \"unit\": \"GHz\"\n",
      "            },\n",
      "            \"label\": null\n",
      "        }\n",
      "    },\n",
      "    \"frequencies_unit\": \"GHz\"\n",
      "}\n"
     ]
    }
   ],
   "source": [
    "# 3.1 Serialize the result to a JSON string\n",
    "result_as_json = result.model_dump_json(indent=4)\n",
    "\n",
    "# 3.2 Print the serialized result\n",
    "print(\"Serialized Results:\")\n",
    "print(result_as_json)\n",
    "\n",
    "# 3.3 Save the result to a file\n",
    "with open('my_results.json', 'w') as f:\n",
    "    f.write(result_as_json)"
   ]
  },
  {
   "cell_type": "markdown",
   "metadata": {},
   "source": [
    "### Step 4: Adjust simulation setup parameters\n",
    "\n",
    "Before running the simulation, you can also modify the simulation setup parameters to suit your needs.\n",
    "\n",
    "> **Tip:**  \n",
    "> For a full list of configurable parameters for each setup type, refer to the official  \n",
    "> [Ansys AEDT Setup Templates documentation](https://aedt.docs.pyansys.com/version/stable/API/SetupTemplates.html)"
   ]
  },
  {
   "cell_type": "code",
   "execution_count": 5,
   "metadata": {},
   "outputs": [
    {
     "name": "stdout",
     "output_type": "stream",
     "text": [
      "Simulation with updated parameters: \n",
      "id='' type=<SimulationTypesNames.EIGENMODE: 'eigenmode'> setup_name='Setup1' design_name='my_design' cores=4 gpus=0 setup_parameters={'MaximumPasses': 4, 'MinimumConvergedPasses': 1, 'MinimumPasses': 1, 'MinimumFrequency': '2GHz', 'NumModes': 3, 'MaxDeltaFreq': 0.2, 'ConvergeOnRealFreq': True, 'PercentRefinement': 30, 'BasisOrder': -1, 'DoLambdaRefine': True, 'DoMaterialLambda': True, 'SetLambdaTarget': False, 'Target': 0.4, 'UseMaxTetIncrease': False}\n"
     ]
    }
   ],
   "source": [
    "# 4.1 Customize the simulation parameters\n",
    "setup_parameters = {\n",
    "    'MaximumPasses': 4,\n",
    "    'MinimumConvergedPasses': 1,\n",
    "    'MinimumPasses': 1,\n",
    "    'MinimumFrequency': '2GHz',\n",
    "    'NumModes': 3,\n",
    "    'MaxDeltaFreq': 0.2,\n",
    "    'ConvergeOnRealFreq': True,\n",
    "    'PercentRefinement': 30,\n",
    "    'BasisOrder': -1,\n",
    "    'DoLambdaRefine': True,\n",
    "    'DoMaterialLambda': True,\n",
    "    'SetLambdaTarget': False,\n",
    "    'Target': 0.4,\n",
    "    'UseMaxTetIncrease': False,\n",
    "}\n",
    "\n",
    "simulation.setup_parameters = setup_parameters\n",
    "print(f'Simulation with updated parameters: \\n{simulation}')\n",
    "# Re-run with: simulation.analyze(hfss) if desired\n"
   ]
  },
  {
   "cell_type": "markdown",
   "metadata": {},
   "source": [
    "### Step 5: Serialize and reload the simulation object\n",
    "\n",
    "In some workflows, you may want to reuse the same simulation configuration across different designs or sessions.\n",
    "\n",
    "To support this, you can serialize the entire simulation object to JSON and reload it when needed.\n"
   ]
  },
  {
   "cell_type": "code",
   "execution_count": 6,
   "metadata": {},
   "outputs": [
    {
     "name": "stdout",
     "output_type": "stream",
     "text": [
      "Serialized Simulation Object:\n",
      "{\n",
      "    \"id\": \"\",\n",
      "    \"type\": \"eigenmode\",\n",
      "    \"setup_name\": \"Setup1\",\n",
      "    \"design_name\": \"my_design\",\n",
      "    \"cores\": 4,\n",
      "    \"gpus\": 0,\n",
      "    \"setup_parameters\": {\n",
      "        \"MaximumPasses\": 4,\n",
      "        \"MinimumConvergedPasses\": 1,\n",
      "        \"MinimumPasses\": 1,\n",
      "        \"MinimumFrequency\": \"2GHz\",\n",
      "        \"NumModes\": 3,\n",
      "        \"MaxDeltaFreq\": 0.2,\n",
      "        \"ConvergeOnRealFreq\": true,\n",
      "        \"PercentRefinement\": 30,\n",
      "        \"BasisOrder\": -1,\n",
      "        \"DoLambdaRefine\": true,\n",
      "        \"DoMaterialLambda\": true,\n",
      "        \"SetLambdaTarget\": false,\n",
      "        \"Target\": 0.4,\n",
      "        \"UseMaxTetIncrease\": false\n",
      "    }\n",
      "}\n",
      "Loaded Simulation Object:\n",
      "id='' type=<SimulationTypesNames.EIGENMODE: 'eigenmode'> setup_name='Setup1' design_name='my_design' cores=4 gpus=0 setup_parameters={'MaximumPasses': 4, 'MinimumConvergedPasses': 1, 'MinimumPasses': 1, 'MinimumFrequency': '2GHz', 'NumModes': 3, 'MaxDeltaFreq': 0.2, 'ConvergeOnRealFreq': True, 'PercentRefinement': 30, 'BasisOrder': -1, 'DoLambdaRefine': True, 'DoMaterialLambda': True, 'SetLambdaTarget': False, 'Target': 0.4, 'UseMaxTetIncrease': False}\n"
     ]
    }
   ],
   "source": [
    "# 5.1 Serialize the entire simulation object\n",
    "simulation_as_string = simulation.model_dump_json(indent=4)\n",
    "print(\"Serialized Simulation Object:\")\n",
    "print(simulation_as_string)\n",
    "\n",
    "# 5.2 Save the simulation to disk\n",
    "with open('my_simulation.json', 'w') as f:\n",
    "    f.write(simulation_as_string)\n",
    "\n",
    "# 5.3 Load it from disk\n",
    "with open('my_simulation.json', 'r') as f:\n",
    "    data = f.read()\n",
    "\n",
    "# 5.4 Reconstruct the simulation object\n",
    "simulation_loaded = EigenmodeAnalysis.model_validate_json(data)\n",
    "print(\"Loaded Simulation Object:\")\n",
    "print(simulation_loaded)\n"
   ]
  }
 ],
 "metadata": {
  "kernelspec": {
   "display_name": ".venv",
   "language": "python",
   "name": "python3"
  },
  "language_info": {
   "codemirror_mode": {
    "name": "ipython",
    "version": 3
   },
   "file_extension": ".py",
   "mimetype": "text/x-python",
   "name": "python",
   "nbconvert_exporter": "python",
   "pygments_lexer": "ipython3",
   "version": "3.11.3"
  }
 },
 "nbformat": 4,
 "nbformat_minor": 2
}
