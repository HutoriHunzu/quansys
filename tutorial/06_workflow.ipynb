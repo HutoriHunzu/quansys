{
 "cells": [
  {
   "cell_type": "markdown",
   "id": "883f68ac",
   "metadata": {},
   "source": [
    "## 06_workflow.ipynb\n",
    "\n",
    "This is the final tutorial and here we are going to explore the automated version of what we saw so far, i.e. the workflow\n",
    "\n",
    "Table of contents:\n",
    "1. overview\n",
    "2. simple example\n",
    "3. full example\n",
    "4. loading from disk"
   ]
  },
  {
   "cell_type": "markdown",
   "metadata": {},
   "source": [
    "### 01 Overview\n",
    "\n",
    "The workflow is essnetially a simple wrapper which execute the main use case of simulating using HFSS.\n",
    "The pseudo-code the workflow implements goes as follow:\n",
    "\n",
    "create folders to save results\n",
    "\n",
    "for parameters in set of parameters:\n",
    "    save the parameters\n",
    "    build the design\n",
    "\n",
    "    for simulation in given set of simulations:\n",
    "        simulation.simulate\n",
    "        save simulation results\n",
    "\n",
    "aggregate all results given the grouping configuration from the user \n",
    "save the aggregations\n",
    "\n",
    "every step i mentioned here was already convered in the previous tutorials"
   ]
  },
  {
   "cell_type": "markdown",
   "metadata": {},
   "source": [
    "### 02 simple example\n",
    "\n",
    "The workflow is controlled using a workflow configuration which is essnetially just a composition of all the different instances we talked about.\n",
    "for example:\n",
    "\n"
   ]
  },
  {
   "cell_type": "code",
   "execution_count": null,
   "metadata": {},
   "outputs": [],
   "source": [
    "from pysubmit import WorkflowConfig, SessionParameters, EigenmodeAnalysis\n",
    "\n",
    "config = WorkflowConfig(\n",
    "    # the session parameters are related to opening and closing the file itself\n",
    "    # for example: non_graphical, or version of hfss. \n",
    "    session_parameters=SessionParameters(file_path='simple_design_readout.aedt'),\n",
    "    # simulations is a dict of strings to simulation instances as we saw in the first tutorial\n",
    "    simulations={'classical': EigenmodeAnalysis(setup_name='Setup1', design_name='my_design')}\n",
    ")"
   ]
  },
  {
   "cell_type": "markdown",
   "metadata": {},
   "source": [
    "The above configuration essentially just opens the simple_design_readout.aedt and execute the Eigenmode simulation without sweeping on anything.\n",
    "The saved file would be under results/iterations/iteration0/classical.json the 'classical' name for the file comes from the key that match for the EigenmodeAnalysis.\n",
    "To run the configuration one can import execute_workflow as shown below:"
   ]
  },
  {
   "cell_type": "code",
   "execution_count": 2,
   "metadata": {},
   "outputs": [
    {
     "name": "stdout",
     "output_type": "stream",
     "text": [
      "PyAEDT INFO: Parsing C:\\Users\\rosengrp\\Documents\\GitHub\\pysubmit\\tutorial\\simple_design_readout.aedt.\n",
      "PyAEDT INFO: Python version 3.11.3 (tags/v3.11.3:f3909b8, Apr  4 2023, 23:49:59) [MSC v.1934 64 bit (AMD64)].\n",
      "PyAEDT INFO: File C:\\Users\\rosengrp\\Documents\\GitHub\\pysubmit\\tutorial\\simple_design_readout.aedt correctly loaded. Elapsed time: 0m 0sec\n",
      "PyAEDT INFO: PyAEDT version 0.15.1.\n",
      "PyAEDT INFO: Initializing new Desktop session.\n",
      "PyAEDT INFO: Log on console is enabled.\n",
      "PyAEDT INFO: Log on file C:\\Users\\rosengrp\\AppData\\Local\\Temp\\pyaedt_rosengrp_81111850-ec97-46cf-843d-9a80045b9b57.log is enabled.\n",
      "PyAEDT INFO: Log on AEDT is enabled.\n",
      "PyAEDT INFO: Debug logger is disabled. PyAEDT methods will not be logged.\n",
      "PyAEDT INFO: Launching PyAEDT with gRPC plugin.\n",
      "PyAEDT INFO: New AEDT session is starting on gRPC port 62645.\n",
      "PyAEDT INFO: Electronics Desktop started on gRPC port: 62645 after 9.972299098968506 seconds.\n",
      "PyAEDT INFO: AEDT installation Path C:\\Program Files\\AnsysEM\\v242\\Win64\n",
      "PyAEDT INFO: Ansoft.ElectronicsDesktop.2024.2 version started with process ID 32324.\n",
      "PyAEDT INFO: Project simple_design_readout has been opened.\n",
      "PyAEDT INFO: Active Design set to temp\n",
      "PyAEDT INFO: Aedt Objects correctly read\n",
      "PyAEDT INFO: Python version 3.11.3 (tags/v3.11.3:f3909b8, Apr  4 2023, 23:49:59) [MSC v.1934 64 bit (AMD64)].\n",
      "PyAEDT INFO: PyAEDT version 0.15.1.\n",
      "PyAEDT INFO: Returning found Desktop session with PID 32324!\n",
      "PyAEDT INFO: Project simple_design_readout set to active.\n",
      "PyAEDT INFO: Active Design set to my_design\n",
      "PyAEDT INFO: Aedt Objects correctly read\n",
      "PyAEDT INFO: Key Desktop/ActiveDSOConfigurations/HFSS correctly changed.\n",
      "PyAEDT INFO: Solving design setup Setup1\n",
      "PyAEDT INFO: Key Desktop/ActiveDSOConfigurations/HFSS correctly changed.\n",
      "PyAEDT INFO: Design setup Setup1 solved correctly in 0.0h 0.0m 29.0s\n",
      "PyAEDT INFO: Project simple_design_readout Saved correctly\n",
      "PyAEDT INFO: Parsing C:/Users/rosengrp/Documents/GitHub/pysubmit/tutorial/simple_design_readout.aedt.\n",
      "PyAEDT INFO: File C:/Users/rosengrp/Documents/GitHub/pysubmit/tutorial/simple_design_readout.aedt correctly loaded. Elapsed time: 0m 0sec\n",
      "PyAEDT INFO: aedt file load time 0.05983996391296387\n",
      "PyAEDT INFO: PostProcessor class has been initialized! Elapsed time: 0m 0sec\n",
      "PyAEDT INFO: Post class has been initialized! Elapsed time: 0m 0sec\n",
      "PyAEDT INFO: Solution Data Correctly Loaded.\n",
      "PyAEDT INFO: Solution Data Correctly Loaded.\n",
      "PyAEDT INFO: Solution Data Correctly Loaded.\n",
      "Cleaning up: Deleting temporary HFSS design.\n",
      "PyAEDT INFO: Desktop has been released and closed.\n"
     ]
    }
   ],
   "source": [
    "from pysubmit import execute_workflow\n",
    "\n",
    "execute_workflow(config)"
   ]
  },
  {
   "cell_type": "markdown",
   "metadata": {},
   "source": [
    "## 03 full example\n",
    "\n",
    "In this example we are going to add sweeping over the chup_length and a script builder to change it.\n",
    "Here is the full configuration:"
   ]
  },
  {
   "cell_type": "code",
   "execution_count": 1,
   "metadata": {},
   "outputs": [
    {
     "name": "stdout",
     "output_type": "stream",
     "text": [
      "PyAEDT INFO: Parsing C:\\Users\\rosengrp\\Documents\\GitHub\\pysubmit\\tutorial\\simple_design_readout.aedt.\n",
      "PyAEDT INFO: Python version 3.11.3 (tags/v3.11.3:f3909b8, Apr  4 2023, 23:49:59) [MSC v.1934 64 bit (AMD64)].\n",
      "PyAEDT INFO: File C:\\Users\\rosengrp\\Documents\\GitHub\\pysubmit\\tutorial\\simple_design_readout.aedt correctly loaded. Elapsed time: 0m 0sec\n",
      "PyAEDT INFO: PyAEDT version 0.15.1.\n",
      "PyAEDT INFO: Initializing new Desktop session.\n",
      "PyAEDT INFO: Log on console is enabled.\n",
      "PyAEDT INFO: Log on file C:\\Users\\rosengrp\\AppData\\Local\\Temp\\pyaedt_rosengrp_09b3b969-e80b-4959-81c8-62fbcdc7419c.log is enabled.\n",
      "PyAEDT INFO: Log on AEDT is enabled.\n",
      "PyAEDT INFO: Debug logger is disabled. PyAEDT methods will not be logged.\n",
      "PyAEDT INFO: Launching PyAEDT with gRPC plugin.\n",
      "PyAEDT INFO: New AEDT session is starting on gRPC port 49469.\n",
      "PyAEDT INFO: Electronics Desktop started on gRPC port: 49469 after 10.209462404251099 seconds.\n",
      "PyAEDT INFO: AEDT installation Path C:\\Program Files\\AnsysEM\\v242\\Win64\n",
      "PyAEDT INFO: Ansoft.ElectronicsDesktop.2024.2 version started with process ID 32332.\n",
      "PyAEDT INFO: Project simple_design_readout has been opened.\n",
      "PyAEDT INFO: Active Design set to temp\n",
      "PyAEDT INFO: Aedt Objects correctly read\n",
      "{'chip_base_length': '10mm'}\n",
      "PyAEDT INFO: Python version 3.11.3 (tags/v3.11.3:f3909b8, Apr  4 2023, 23:49:59) [MSC v.1934 64 bit (AMD64)].\n",
      "PyAEDT INFO: PyAEDT version 0.15.1.\n",
      "PyAEDT INFO: Returning found Desktop session with PID 32332!\n",
      "PyAEDT INFO: Project simple_design_readout set to active.\n",
      "PyAEDT INFO: Active Design set to my_design\n",
      "PyAEDT INFO: Aedt Objects correctly read\n",
      "PyAEDT INFO: Key Desktop/ActiveDSOConfigurations/HFSS correctly changed.\n",
      "PyAEDT INFO: Solving design setup Setup1\n",
      "PyAEDT INFO: Key Desktop/ActiveDSOConfigurations/HFSS correctly changed.\n",
      "PyAEDT INFO: Design setup Setup1 solved correctly in 0.0h 0.0m 7.0s\n",
      "PyAEDT INFO: Project simple_design_readout Saved correctly\n",
      "PyAEDT INFO: Parsing C:/Users/rosengrp/Documents/GitHub/pysubmit/tutorial/simple_design_readout.aedt.\n",
      "PyAEDT INFO: File C:/Users/rosengrp/Documents/GitHub/pysubmit/tutorial/simple_design_readout.aedt correctly loaded. Elapsed time: 0m 0sec\n",
      "PyAEDT INFO: aedt file load time 0.0608372688293457\n",
      "PyAEDT INFO: PostProcessor class has been initialized! Elapsed time: 0m 0sec\n",
      "PyAEDT INFO: Post class has been initialized! Elapsed time: 0m 0sec\n",
      "PyAEDT INFO: Solution Data Correctly Loaded.\n",
      "PyAEDT INFO: Solution Data Correctly Loaded.\n",
      "PyAEDT INFO: Solution Data Correctly Loaded.\n",
      "{'chip_base_length': '12mm'}\n",
      "PyAEDT INFO: Python version 3.11.3 (tags/v3.11.3:f3909b8, Apr  4 2023, 23:49:59) [MSC v.1934 64 bit (AMD64)].\n",
      "PyAEDT INFO: PyAEDT version 0.15.1.\n",
      "PyAEDT INFO: Returning found Desktop session with PID 32332!\n",
      "PyAEDT INFO: Project simple_design_readout set to active.\n",
      "PyAEDT INFO: Active Design set to my_design\n",
      "PyAEDT INFO: Aedt Objects correctly read\n",
      "PyAEDT INFO: Key Desktop/ActiveDSOConfigurations/HFSS correctly changed.\n",
      "PyAEDT INFO: Solving design setup Setup1\n",
      "PyAEDT INFO: Key Desktop/ActiveDSOConfigurations/HFSS correctly changed.\n",
      "PyAEDT INFO: Design setup Setup1 solved correctly in 0.0h 0.0m 3.0s\n",
      "PyAEDT INFO: Project simple_design_readout Saved correctly\n",
      "PyAEDT INFO: Parsing C:/Users/rosengrp/Documents/GitHub/pysubmit/tutorial/simple_design_readout.aedt.\n",
      "PyAEDT INFO: File C:/Users/rosengrp/Documents/GitHub/pysubmit/tutorial/simple_design_readout.aedt correctly loaded. Elapsed time: 0m 0sec\n",
      "PyAEDT INFO: aedt file load time 0.10372352600097656\n",
      "PyAEDT INFO: PostProcessor class has been initialized! Elapsed time: 0m 0sec\n",
      "PyAEDT INFO: Post class has been initialized! Elapsed time: 0m 0sec\n",
      "PyAEDT INFO: Solution Data Correctly Loaded.\n",
      "PyAEDT INFO: Solution Data Correctly Loaded.\n",
      "PyAEDT INFO: Solution Data Correctly Loaded.\n",
      "{'chip_base_length': '14mm'}\n",
      "PyAEDT INFO: Python version 3.11.3 (tags/v3.11.3:f3909b8, Apr  4 2023, 23:49:59) [MSC v.1934 64 bit (AMD64)].\n",
      "PyAEDT INFO: PyAEDT version 0.15.1.\n",
      "PyAEDT INFO: Returning found Desktop session with PID 32332!\n",
      "PyAEDT INFO: Project simple_design_readout set to active.\n",
      "PyAEDT INFO: Active Design set to my_design\n",
      "PyAEDT INFO: Aedt Objects correctly read\n",
      "PyAEDT INFO: Key Desktop/ActiveDSOConfigurations/HFSS correctly changed.\n",
      "PyAEDT INFO: Solving design setup Setup1\n",
      "PyAEDT INFO: Key Desktop/ActiveDSOConfigurations/HFSS correctly changed.\n",
      "PyAEDT INFO: Design setup Setup1 solved correctly in 0.0h 0.0m 3.0s\n",
      "PyAEDT INFO: Project simple_design_readout Saved correctly\n",
      "PyAEDT INFO: Parsing C:/Users/rosengrp/Documents/GitHub/pysubmit/tutorial/simple_design_readout.aedt.\n",
      "PyAEDT INFO: File C:/Users/rosengrp/Documents/GitHub/pysubmit/tutorial/simple_design_readout.aedt correctly loaded. Elapsed time: 0m 0sec\n",
      "PyAEDT INFO: aedt file load time 0.10970616340637207\n",
      "PyAEDT INFO: PostProcessor class has been initialized! Elapsed time: 0m 0sec\n",
      "PyAEDT INFO: Post class has been initialized! Elapsed time: 0m 0sec\n",
      "PyAEDT INFO: Solution Data Correctly Loaded.\n",
      "PyAEDT INFO: Solution Data Correctly Loaded.\n",
      "PyAEDT INFO: Solution Data Correctly Loaded.\n",
      "{'chip_base_length': '16mm'}\n",
      "PyAEDT INFO: Python version 3.11.3 (tags/v3.11.3:f3909b8, Apr  4 2023, 23:49:59) [MSC v.1934 64 bit (AMD64)].\n",
      "PyAEDT INFO: PyAEDT version 0.15.1.\n",
      "PyAEDT INFO: Returning found Desktop session with PID 32332!\n",
      "PyAEDT INFO: Project simple_design_readout set to active.\n",
      "PyAEDT INFO: Active Design set to my_design\n",
      "PyAEDT INFO: Aedt Objects correctly read\n",
      "PyAEDT INFO: Key Desktop/ActiveDSOConfigurations/HFSS correctly changed.\n",
      "PyAEDT INFO: Solving design setup Setup1\n",
      "PyAEDT INFO: Key Desktop/ActiveDSOConfigurations/HFSS correctly changed.\n",
      "PyAEDT INFO: Design setup Setup1 solved correctly in 0.0h 0.0m 3.0s\n",
      "PyAEDT INFO: Project simple_design_readout Saved correctly\n",
      "PyAEDT INFO: Parsing C:/Users/rosengrp/Documents/GitHub/pysubmit/tutorial/simple_design_readout.aedt.\n",
      "PyAEDT INFO: File C:/Users/rosengrp/Documents/GitHub/pysubmit/tutorial/simple_design_readout.aedt correctly loaded. Elapsed time: 0m 0sec\n",
      "PyAEDT INFO: aedt file load time 0.15719819068908691\n",
      "PyAEDT INFO: PostProcessor class has been initialized! Elapsed time: 0m 0sec\n",
      "PyAEDT INFO: Post class has been initialized! Elapsed time: 0m 0sec\n",
      "PyAEDT INFO: Solution Data Correctly Loaded.\n",
      "PyAEDT INFO: Solution Data Correctly Loaded.\n",
      "PyAEDT INFO: Solution Data Correctly Loaded.\n",
      "Cleaning up: Deleting temporary HFSS design.\n",
      "PyAEDT INFO: Desktop has been released and closed.\n"
     ]
    }
   ],
   "source": [
    "from pysubmit import WorkflowConfig, SessionParameters, EigenmodeAnalysis, DataHandler\n",
    "from pysubmit.workflow.builder import ScriptBuilder\n",
    "from pysubmit.workflow.sweep import ZipSweep\n",
    "from pysubmit import execute_workflow\n",
    "\n",
    "\n",
    "config = WorkflowConfig(\n",
    "    session_parameters=SessionParameters(file_path='simple_design_readout.aedt'),\n",
    "    simulations={'classical': EigenmodeAnalysis(setup_name='Setup1', design_name='my_design')},\n",
    "\n",
    "    # the builder sweep is a list of sweep instances, either ProductSweep or ZipSweep.\n",
    "    # the reason it is a list is because it allows for chaining the sweepers. \n",
    "    # for example you can product sweep over two parameters and for every combination of these two do another sweep \n",
    "    # on other parameters.\n",
    "    builder_sweep=[ZipSweep(parameters={'value': ['10mm', '12mm', '14mm', '16mm']})],\n",
    "\n",
    "    # this is just a builder instance, similar to the builder tutorial\n",
    "    builder=ScriptBuilder(path='script_builder_function.py'),\n",
    "\n",
    "    # data handler is also initiated here. the workflow save the build parameters using an identifier\n",
    "    # called build_parameters. so if you want to aggregate the build parameters into your simulation results \n",
    "    # this is how you should do it\n",
    "    data_handler=DataHandler(grouping_config={'my_aggregation': ('build_parameters', 'classical')})\n",
    ")\n",
    "\n",
    "execute_workflow(config)"
   ]
  },
  {
   "cell_type": "markdown",
   "metadata": {},
   "source": [
    "Note that the build parameters are taken from the sweeper only if the builder itself doesn't return a dict instance.\n",
    "Meaning that if i change the script builder file to return nothing (return None) then the column in the aggregation would be 'value'.\n",
    "However if it does return a dict than the build_parameters are chosen from it. in our case the function does return {'chip_base_length': some_value} therefore\n",
    "the aggregation would have a column called 'chip_base_length'"
   ]
  },
  {
   "cell_type": "markdown",
   "metadata": {},
   "source": [
    "### 04 Loading and Saving\n",
    "\n",
    "The workflow configuration can be loaded from a"
   ]
  }
 ],
 "metadata": {
  "kernelspec": {
   "display_name": ".venv",
   "language": "python",
   "name": "python3"
  },
  "language_info": {
   "codemirror_mode": {
    "name": "ipython",
    "version": 3
   },
   "file_extension": ".py",
   "mimetype": "text/x-python",
   "name": "python",
   "nbconvert_exporter": "python",
   "pygments_lexer": "ipython3",
   "version": "3.11.3"
  }
 },
 "nbformat": 4,
 "nbformat_minor": 2
}
