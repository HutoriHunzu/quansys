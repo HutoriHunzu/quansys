{
 "cells": [
  {
   "cell_type": "markdown",
   "metadata": {},
   "source": [
    "# 06_workflow\n",
    "\n",
    "In this **final tutorial**, we explore the automated workflow that ties together everything we learned so far:\n",
    "- Building designs\n",
    "- Sweeping parameters\n",
    "- Running simulations\n",
    "- Storing results\n",
    "\n",
    "We'll use the `execute_workflow` function and a `WorkflowConfig` object to show how these pieces fit in a single pipeline."
   ]
  },
  {
   "cell_type": "markdown",
   "metadata": {},
   "source": [
    "## Table of Contents\n",
    "1. [Overview](#overview)\n",
    "2. [Simple Example](#simple-example)\n",
    "3. [Full Example](#full-example)\n",
    "4. [Loading and Saving Configurations](#loading-and-saving-configurations)\n",
    "5. [Conclusion](#conclusion)"
   ]
  },
  {
   "cell_type": "markdown",
   "metadata": {
    "tags": []
   },
   "source": [
    "## 1. Overview <a name=\"overview\"></a>\n",
    "\n",
    "The **Workflow** in `pysubmit` orchestrates the following sequence of actions:\n",
    "\n",
    "1. A new result directory is created (or an existing one is used).\n",
    "2. For each set of parameters (like geometry dimensions or frequencies):\n",
    "   - The parameters are saved for record-keeping, and used to build or modify the design.\n",
    "   - One or more simulations are run (e.g., HFSS eigenmode analysis).\n",
    "   - The simulation outputs (e.g., frequencies, Q-factors) are serialized to JSON.\n",
    "3. Once all parameter sets are processed, the workflow aggregates these results based on a user-specified grouping configuration.\n",
    "4. The final aggregated data is saved for subsequent analysis or archiving.\n",
    "\n",
    "We’ll see how `WorkflowConfig` and `execute_workflow` automate these steps."
   ]
  },
  {
   "cell_type": "markdown",
   "metadata": {},
   "source": [
    "## 2. Simple Example <a name=\"simple-example\"></a>\n",
    "\n",
    "In the simplest scenario, we open `simple_design_readout.aedt` and execute just one simulation (`EigenmodeAnalysis`)."
   ]
  },
  {
   "cell_type": "code",
   "execution_count": 5,
   "metadata": {},
   "outputs": [],
   "source": [
    "from pysubmit import WorkflowConfig, SessionParameters, EigenmodeAnalysis\n",
    "config = WorkflowConfig(\n",
    "    session_parameters=SessionParameters(file_path='./designs/simple_design.aedt', design_name='my_design'),\n",
    "    simulations={'classical': EigenmodeAnalysis(setup_name='Setup1', design_name='my_design')}\n",
    ")"
   ]
  },
  {
   "cell_type": "markdown",
   "metadata": {},
   "source": [
    "To run this configuration:"
   ]
  },
  {
   "cell_type": "code",
   "execution_count": 6,
   "metadata": {},
   "outputs": [
    {
     "name": "stdout",
     "output_type": "stream",
     "text": [
      "PyAEDT INFO: Parsing C:\\Users\\rosengrp\\Documents\\GitHub\\pysubmit\\tutorial\\designs\\simple_design.aedt.\n",
      "PyAEDT INFO: Python version 3.11.3 (tags/v3.11.3:f3909b8, Apr  4 2023, 23:49:59) [MSC v.1934 64 bit (AMD64)]\n",
      "PyAEDT INFO: PyAEDT version 0.13.0.\n",
      "PyAEDT INFO: Initializing new Desktop session.\n",
      "PyAEDT INFO: File C:\\Users\\rosengrp\\Documents\\GitHub\\pysubmit\\tutorial\\designs\\simple_design.aedt correctly loaded. Elapsed time: 0m 0sec\n",
      "PyAEDT INFO: Log on console is enabled.\n",
      "PyAEDT INFO: Log on file C:\\Users\\rosengrp\\AppData\\Local\\Temp\\pyaedt_rosengrp_c3cc4a07-45d3-4311-a37b-c88c1ca2f51d.log is enabled.\n",
      "PyAEDT INFO: Log on AEDT is enabled.\n",
      "PyAEDT INFO: Debug logger is disabled. PyAEDT methods will not be logged.\n",
      "PyAEDT INFO: Launching PyAEDT with gRPC plugin.\n",
      "PyAEDT INFO: New AEDT session is starting on gRPC port 62763\n",
      "PyAEDT INFO: AEDT installation Path C:\\Program Files\\AnsysEM\\v242\\Win64\n",
      "PyAEDT INFO: Ansoft.ElectronicsDesktop.2024.2 version started with process ID 1960.\n",
      "PyAEDT INFO: Project simple_design has been opened.\n",
      "PyAEDT INFO: Aedt Objects correctly read\n",
      "PyAEDT INFO: Python version 3.11.3 (tags/v3.11.3:f3909b8, Apr  4 2023, 23:49:59) [MSC v.1934 64 bit (AMD64)]\n",
      "PyAEDT INFO: PyAEDT version 0.13.0.\n",
      "PyAEDT INFO: Returning found Desktop session with PID 1960!\n",
      "PyAEDT INFO: Project simple_design set to active.\n",
      "PyAEDT INFO: Aedt Objects correctly read\n",
      "PyAEDT INFO: Key Desktop/ActiveDSOConfigurations/HFSS correctly changed.\n",
      "PyAEDT INFO: Solving design setup Setup1\n",
      "PyAEDT INFO: Key Desktop/ActiveDSOConfigurations/HFSS correctly changed.\n",
      "PyAEDT INFO: Design setup Setup1 solved correctly in 0.0h 0.0m 7.0s\n",
      "PyAEDT INFO: Project simple_design Saved correctly\n",
      "PyAEDT INFO: Parsing C:/Users/rosengrp/Documents/GitHub/pysubmit/tutorial/designs/simple_design.aedt.\n",
      "PyAEDT INFO: File C:/Users/rosengrp/Documents/GitHub/pysubmit/tutorial/designs/simple_design.aedt correctly loaded. Elapsed time: 0m 0sec\n",
      "PyAEDT INFO: aedt file load time 0.06582450866699219\n",
      "PyAEDT INFO: PostProcessor class has been initialized! Elapsed time: 0m 0sec\n",
      "PyAEDT INFO: Post class has been initialized! Elapsed time: 0m 0sec\n",
      "PyAEDT INFO: Solution Data Correctly Loaded.\n",
      "PyAEDT INFO: Solution Data Correctly Loaded.\n",
      "PyAEDT INFO: Solution Data Correctly Loaded.\n",
      "Cleaning up: Deleting temporary HFSS design.\n",
      "PyAEDT INFO: Desktop has been released and closed.\n"
     ]
    }
   ],
   "source": [
    "from pysubmit import execute_workflow\n",
    "\n",
    "execute_workflow(config)"
   ]
  },
  {
   "cell_type": "markdown",
   "metadata": {},
   "source": [
    "The simulation output (JSON file) is saved under something like `results/iterations/iteration_0/classical.json`, where **classical** is just the key for `EigenmodeAnalysis` in `simulations`."
   ]
  },
  {
   "cell_type": "markdown",
   "metadata": {},
   "source": [
    "## 3. Full Example <a name=\"full-example\"></a>\n",
    "\n",
    "Here, we add a sweep over `chip_base_length` (or some design parameter) using a `ScriptBuilder`. This merges multiple features: parameter sweeping, script-based building, and the standard `EigenmodeAnalysis` simulation."
   ]
  },
  {
   "cell_type": "code",
   "execution_count": 7,
   "metadata": {},
   "outputs": [
    {
     "name": "stdout",
     "output_type": "stream",
     "text": [
      "PyAEDT INFO: Parsing C:\\Users\\rosengrp\\Documents\\GitHub\\pysubmit\\tutorial\\designs\\simple_design.aedt.\n",
      "PyAEDT INFO: Python version 3.11.3 (tags/v3.11.3:f3909b8, Apr  4 2023, 23:49:59) [MSC v.1934 64 bit (AMD64)]\n",
      "PyAEDT INFO: PyAEDT version 0.13.0.\n",
      "PyAEDT INFO: Initializing new Desktop session.\n",
      "PyAEDT INFO: File C:\\Users\\rosengrp\\Documents\\GitHub\\pysubmit\\tutorial\\designs\\simple_design.aedt correctly loaded. Elapsed time: 0m 0sec\n",
      "PyAEDT INFO: Log on console is enabled.\n",
      "PyAEDT INFO: Log on file C:\\Users\\rosengrp\\AppData\\Local\\Temp\\pyaedt_rosengrp_c3cc4a07-45d3-4311-a37b-c88c1ca2f51d.log is enabled.\n",
      "PyAEDT INFO: Log on AEDT is enabled.\n",
      "PyAEDT INFO: Debug logger is disabled. PyAEDT methods will not be logged.\n",
      "PyAEDT INFO: Launching PyAEDT with gRPC plugin.\n",
      "PyAEDT INFO: New AEDT session is starting on gRPC port 62825\n",
      "PyAEDT INFO: AEDT installation Path C:\\Program Files\\AnsysEM\\v242\\Win64\n",
      "PyAEDT INFO: Ansoft.ElectronicsDesktop.2024.2 version started with process ID 20960.\n",
      "PyAEDT INFO: Project simple_design has been opened.\n",
      "PyAEDT INFO: Aedt Objects correctly read\n",
      "PyAEDT INFO: Python version 3.11.3 (tags/v3.11.3:f3909b8, Apr  4 2023, 23:49:59) [MSC v.1934 64 bit (AMD64)]\n",
      "PyAEDT INFO: PyAEDT version 0.13.0.\n",
      "PyAEDT INFO: Returning found Desktop session with PID 20960!\n",
      "PyAEDT INFO: Project simple_design set to active.\n",
      "PyAEDT INFO: Aedt Objects correctly read\n",
      "PyAEDT INFO: Key Desktop/ActiveDSOConfigurations/HFSS correctly changed.\n",
      "PyAEDT INFO: Solving design setup Setup1\n",
      "PyAEDT INFO: Key Desktop/ActiveDSOConfigurations/HFSS correctly changed.\n",
      "PyAEDT INFO: Design setup Setup1 solved correctly in 0.0h 0.0m 7.0s\n",
      "PyAEDT INFO: Project simple_design Saved correctly\n",
      "PyAEDT INFO: Parsing C:/Users/rosengrp/Documents/GitHub/pysubmit/tutorial/designs/simple_design.aedt.\n",
      "PyAEDT INFO: File C:/Users/rosengrp/Documents/GitHub/pysubmit/tutorial/designs/simple_design.aedt correctly loaded. Elapsed time: 0m 0sec\n",
      "PyAEDT INFO: aedt file load time 0.05186200141906738\n",
      "PyAEDT INFO: PostProcessor class has been initialized! Elapsed time: 0m 0sec\n",
      "PyAEDT INFO: Post class has been initialized! Elapsed time: 0m 0sec\n",
      "PyAEDT INFO: Solution Data Correctly Loaded.\n",
      "PyAEDT INFO: Solution Data Correctly Loaded.\n",
      "PyAEDT INFO: Solution Data Correctly Loaded.\n",
      "PyAEDT INFO: Python version 3.11.3 (tags/v3.11.3:f3909b8, Apr  4 2023, 23:49:59) [MSC v.1934 64 bit (AMD64)]\n",
      "PyAEDT INFO: PyAEDT version 0.13.0.\n",
      "PyAEDT INFO: Returning found Desktop session with PID 20960!\n",
      "PyAEDT INFO: Project simple_design set to active.\n",
      "PyAEDT INFO: Aedt Objects correctly read\n",
      "PyAEDT INFO: Key Desktop/ActiveDSOConfigurations/HFSS correctly changed.\n",
      "PyAEDT INFO: Solving design setup Setup1\n",
      "PyAEDT INFO: Key Desktop/ActiveDSOConfigurations/HFSS correctly changed.\n",
      "PyAEDT INFO: Design setup Setup1 solved correctly in 0.0h 0.0m 2.0s\n",
      "PyAEDT INFO: Project simple_design Saved correctly\n",
      "PyAEDT INFO: Parsing C:/Users/rosengrp/Documents/GitHub/pysubmit/tutorial/designs/simple_design.aedt.\n",
      "PyAEDT INFO: File C:/Users/rosengrp/Documents/GitHub/pysubmit/tutorial/designs/simple_design.aedt correctly loaded. Elapsed time: 0m 0sec\n",
      "PyAEDT INFO: aedt file load time 0.06382894515991211\n",
      "PyAEDT INFO: PostProcessor class has been initialized! Elapsed time: 0m 0sec\n",
      "PyAEDT INFO: Post class has been initialized! Elapsed time: 0m 0sec\n",
      "PyAEDT INFO: Solution Data Correctly Loaded.\n",
      "PyAEDT INFO: Solution Data Correctly Loaded.\n",
      "PyAEDT INFO: Solution Data Correctly Loaded.\n",
      "PyAEDT INFO: Python version 3.11.3 (tags/v3.11.3:f3909b8, Apr  4 2023, 23:49:59) [MSC v.1934 64 bit (AMD64)]\n",
      "PyAEDT INFO: PyAEDT version 0.13.0.\n",
      "PyAEDT INFO: Returning found Desktop session with PID 20960!\n",
      "PyAEDT INFO: Project simple_design set to active.\n",
      "PyAEDT INFO: Aedt Objects correctly read\n",
      "PyAEDT INFO: Key Desktop/ActiveDSOConfigurations/HFSS correctly changed.\n",
      "PyAEDT INFO: Solving design setup Setup1\n",
      "PyAEDT INFO: Key Desktop/ActiveDSOConfigurations/HFSS correctly changed.\n",
      "PyAEDT INFO: Design setup Setup1 solved correctly in 0.0h 0.0m 3.0s\n",
      "PyAEDT INFO: Project simple_design Saved correctly\n",
      "PyAEDT INFO: Parsing C:/Users/rosengrp/Documents/GitHub/pysubmit/tutorial/designs/simple_design.aedt.\n",
      "PyAEDT INFO: File C:/Users/rosengrp/Documents/GitHub/pysubmit/tutorial/designs/simple_design.aedt correctly loaded. Elapsed time: 0m 0sec\n",
      "PyAEDT INFO: aedt file load time 0.07779145240783691\n",
      "PyAEDT INFO: PostProcessor class has been initialized! Elapsed time: 0m 0sec\n",
      "PyAEDT INFO: Post class has been initialized! Elapsed time: 0m 0sec\n",
      "PyAEDT INFO: Solution Data Correctly Loaded.\n",
      "PyAEDT INFO: Solution Data Correctly Loaded.\n",
      "PyAEDT INFO: Solution Data Correctly Loaded.\n",
      "PyAEDT INFO: Python version 3.11.3 (tags/v3.11.3:f3909b8, Apr  4 2023, 23:49:59) [MSC v.1934 64 bit (AMD64)]\n",
      "PyAEDT INFO: PyAEDT version 0.13.0.\n",
      "PyAEDT INFO: Returning found Desktop session with PID 20960!\n",
      "PyAEDT INFO: Project simple_design set to active.\n",
      "PyAEDT INFO: Aedt Objects correctly read\n",
      "PyAEDT INFO: Key Desktop/ActiveDSOConfigurations/HFSS correctly changed.\n",
      "PyAEDT INFO: Solving design setup Setup1\n",
      "PyAEDT INFO: Key Desktop/ActiveDSOConfigurations/HFSS correctly changed.\n",
      "PyAEDT INFO: Design setup Setup1 solved correctly in 0.0h 0.0m 3.0s\n",
      "PyAEDT INFO: Project simple_design Saved correctly\n",
      "PyAEDT INFO: Parsing C:/Users/rosengrp/Documents/GitHub/pysubmit/tutorial/designs/simple_design.aedt.\n",
      "PyAEDT INFO: File C:/Users/rosengrp/Documents/GitHub/pysubmit/tutorial/designs/simple_design.aedt correctly loaded. Elapsed time: 0m 0sec\n",
      "PyAEDT INFO: aedt file load time 0.08976030349731445\n",
      "PyAEDT INFO: PostProcessor class has been initialized! Elapsed time: 0m 0sec\n",
      "PyAEDT INFO: Post class has been initialized! Elapsed time: 0m 0sec\n",
      "PyAEDT INFO: Solution Data Correctly Loaded.\n",
      "PyAEDT INFO: Solution Data Correctly Loaded.\n",
      "PyAEDT INFO: Solution Data Correctly Loaded.\n",
      "Cleaning up: Deleting temporary HFSS design.\n",
      "PyAEDT INFO: Desktop has been released and closed.\n"
     ]
    }
   ],
   "source": [
    "from pysubmit import WorkflowConfig, SessionParameters, EigenmodeAnalysis, DataHandler\n",
    "from pysubmit.workflow.builder import ScriptBuilder\n",
    "from pysubmit.workflow.sweep import ZipSweep\n",
    "from pysubmit import execute_workflow\n",
    "\n",
    "config_full = WorkflowConfig(\n",
    "    session_parameters=SessionParameters(file_path='./designs/simple_design.aedt'),\n",
    "    simulations={'classical': EigenmodeAnalysis(setup_name='Setup1', design_name='my_design')},\n",
    "\n",
    "    # A list of sweeps. We'll do a ZipSweep for chip_base_length\n",
    "    builder_sweep=[ZipSweep(parameters={'value': ['10mm', '12mm', '14mm', '16mm']})],\n",
    "\n",
    "    # The builder to apply to each sweep iteration\n",
    "    builder=ScriptBuilder(path='./builder_scripts/script_builder_function.py'),\n",
    "\n",
    "    # A DataHandler to store build_parameters + classical results\n",
    "    data_handler=DataHandler(grouping_config={'my_aggregation': ('build_parameters', 'classical')})\n",
    ")\n",
    "\n",
    "execute_workflow(config_full)"
   ]
  },
  {
   "cell_type": "markdown",
   "metadata": {},
   "source": [
    "By default, each iteration’s parameters are stored under the identifier `build_parameters`, and the simulation results are saved under `classical.json`. The aggregator can merge them into a CSV, creating a column for the `chip_base_length` and relevant simulation results."
   ]
  },
  {
   "cell_type": "markdown",
   "metadata": {},
   "source": [
    "## 4. Loading and Saving Configurations <a name=\"loading-and-saving-configurations\"></a>\n",
    "\n",
    "The workflow configuration can be saved or loaded via YAML, making it easy to run in different environments."
   ]
  },
  {
   "cell_type": "code",
   "execution_count": 8,
   "metadata": {},
   "outputs": [
    {
     "name": "stdout",
     "output_type": "stream",
     "text": [
      "{\n",
      "    \"session_parameters\": {\n",
      "        \"file_path\": \"designs\\\\simple_design.aedt\",\n",
      "        \"design_name\": \"temp\",\n",
      "        \"version\": \"2024.2\",\n",
      "        \"non_graphical\": false,\n",
      "        \"new_desktop\": true,\n",
      "        \"close_on_exit\": true\n",
      "    },\n",
      "    \"simulations\": {\n",
      "        \"classical\": {\n",
      "            \"type\": \"eigenmode\",\n",
      "            \"setup_name\": \"Setup1\",\n",
      "            \"design_name\": \"my_design\",\n",
      "            \"cores\": 4,\n",
      "            \"gpus\": 0,\n",
      "            \"setup_parameters\": {}\n",
      "        }\n",
      "    },\n",
      "    \"data_handler\": {\n",
      "        \"root_directory\": \".\",\n",
      "        \"results_dirname\": \"results_6\",\n",
      "        \"iterations_dirname\": \"iterations\",\n",
      "        \"aggregations_dirname\": \"aggregations\",\n",
      "        \"grouping_config\": {\n",
      "            \"my_aggregation\": [\n",
      "                \"build_parameters\",\n",
      "                \"classical\"\n",
      "            ]\n",
      "        },\n",
      "        \"counter\": 3,\n",
      "        \"last_iteration_path\": \"results_6\\\\iterations\\\\iteration_3\",\n",
      "        \"overwrite\": false,\n",
      "        \"use_unique\": true,\n",
      "        \"results_directory\": \"results_6\",\n",
      "        \"iterations_directory\": \"results_6\\\\iterations\",\n",
      "        \"aggregations_directory\": \"results_6\\\\aggregations\"\n",
      "    },\n",
      "    \"builder\": {\n",
      "        \"type\": \"script_builder\",\n",
      "        \"path\": \"builder_scripts\\\\script_builder_function.py\",\n",
      "        \"args\": {},\n",
      "        \"additional_files\": null\n",
      "    },\n",
      "    \"builder_sweep\": [\n",
      "        {\n",
      "            \"parameters\": {\n",
      "                \"value\": [\n",
      "                    \"10mm\",\n",
      "                    \"12mm\",\n",
      "                    \"14mm\",\n",
      "                    \"16mm\"\n",
      "                ]\n",
      "            },\n",
      "            \"constants\": {},\n",
      "            \"use_compound_types\": true,\n",
      "            \"type\": \"zip\"\n",
      "        }\n",
      "    ]\n",
      "}\n"
     ]
    }
   ],
   "source": [
    "config_full.save_to_yaml('./configs/workflow_config_example.yaml')\n",
    "loaded_config = WorkflowConfig.load_from_yaml('./configs/workflow_config_example.yaml')\n",
    "print(loaded_config.model_dump_json(indent=4))"
   ]
  },
  {
   "cell_type": "markdown",
   "metadata": {},
   "source": [
    "## 5. Conclusion <a name=\"conclusion\"></a>\n",
    "\n",
    "In this notebook, we:\n",
    "- Showed a **simple workflow** (single simulation, no sweep).\n",
    "- Explored a **full example** combining parameter sweeps (`ZipSweep`), script-based building, multiple simulations, and data aggregation.\n",
    "- Demonstrated how to **save and load** `WorkflowConfig` from YAML.\n",
    "\n",
    "This wraps up the end-to-end process: you now have all the pieces to automate design building, parameter sweeping, simulation, and data handling. For advanced usage, explore chaining multiple sweeps or custom aggregator settings to tailor your own workflows."
   ]
  }
 ],
 "metadata": {
  "kernelspec": {
   "display_name": ".venv",
   "language": "python",
   "name": "python3"
  },
  "language_info": {
   "codemirror_mode": {
    "name": "ipython",
    "version": 3
   },
   "file_extension": ".py",
   "mimetype": "text/x-python",
   "name": "python",
   "nbconvert_exporter": "python",
   "pygments_lexer": "ipython3",
   "version": "3.11.3"
  }
 },
 "nbformat": 4,
 "nbformat_minor": 2
}
